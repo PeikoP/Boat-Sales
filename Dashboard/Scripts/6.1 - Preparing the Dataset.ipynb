{
 "cells": [
  {
   "cell_type": "markdown",
   "id": "e0e278f2",
   "metadata": {},
   "source": [
    "## Importing Libraries"
   ]
  },
  {
   "cell_type": "code",
   "execution_count": 1,
   "id": "3143a844",
   "metadata": {},
   "outputs": [],
   "source": [
    "# importing libraries\n",
    "import pandas as pd\n",
    "import numpy as np\n",
    "import os\n",
    "import matplotlib.pyplot as plt\n",
    "import seaborn as sns\n",
    "import scipy"
   ]
  },
  {
   "cell_type": "code",
   "execution_count": 2,
   "id": "d49aaf0c",
   "metadata": {},
   "outputs": [],
   "source": [
    "# creating path variable\n",
    "path = r'/Users/paigepearson/Desktop/Data Analytics/Immersion Course/Achievement 6/Boat Dashboard'"
   ]
  },
  {
   "cell_type": "code",
   "execution_count": 3,
   "id": "3b58adeb",
   "metadata": {},
   "outputs": [],
   "source": [
    "# importing data set\n",
    "df_boat = pd.read_csv(os.path.join(path, 'Data', 'Original Data', 'boat_data.csv'), index_col = False)"
   ]
  },
  {
   "cell_type": "markdown",
   "id": "75ff6391",
   "metadata": {},
   "source": [
    "## Examining and Cleaning Data Set"
   ]
  },
  {
   "cell_type": "markdown",
   "id": "1403ef56",
   "metadata": {},
   "source": [
    "### Examining the Data to create a Raw Data Profile"
   ]
  },
  {
   "cell_type": "markdown",
   "id": "c985990c",
   "metadata": {},
   "source": [
    "Note: The dataset is rather large and so the cleaning and wrangling process may take several scripts to complete."
   ]
  },
  {
   "cell_type": "code",
   "execution_count": 4,
   "id": "d72801a5",
   "metadata": {},
   "outputs": [
    {
     "data": {
      "text/html": [
       "<div>\n",
       "<style scoped>\n",
       "    .dataframe tbody tr th:only-of-type {\n",
       "        vertical-align: middle;\n",
       "    }\n",
       "\n",
       "    .dataframe tbody tr th {\n",
       "        vertical-align: top;\n",
       "    }\n",
       "\n",
       "    .dataframe thead th {\n",
       "        text-align: right;\n",
       "    }\n",
       "</style>\n",
       "<table border=\"1\" class=\"dataframe\">\n",
       "  <thead>\n",
       "    <tr style=\"text-align: right;\">\n",
       "      <th></th>\n",
       "      <th>Price</th>\n",
       "      <th>Boat Type</th>\n",
       "      <th>Manufacturer</th>\n",
       "      <th>Type</th>\n",
       "      <th>Year Built</th>\n",
       "      <th>Length</th>\n",
       "      <th>Width</th>\n",
       "      <th>Material</th>\n",
       "      <th>Location</th>\n",
       "      <th>Number of views last 7 days</th>\n",
       "    </tr>\n",
       "  </thead>\n",
       "  <tbody>\n",
       "    <tr>\n",
       "      <th>0</th>\n",
       "      <td>CHF 3337</td>\n",
       "      <td>Motor Yacht</td>\n",
       "      <td>Rigiflex power boats</td>\n",
       "      <td>new boat from stock</td>\n",
       "      <td>2017</td>\n",
       "      <td>4.00</td>\n",
       "      <td>1.90</td>\n",
       "      <td>NaN</td>\n",
       "      <td>Switzerland Â» Lake Geneva Â» VÃ©senaz</td>\n",
       "      <td>226</td>\n",
       "    </tr>\n",
       "    <tr>\n",
       "      <th>1</th>\n",
       "      <td>EUR 3490</td>\n",
       "      <td>Center console boat</td>\n",
       "      <td>Terhi power boats</td>\n",
       "      <td>new boat from stock</td>\n",
       "      <td>2020</td>\n",
       "      <td>4.00</td>\n",
       "      <td>1.50</td>\n",
       "      <td>Thermoplastic</td>\n",
       "      <td>Germany Â» BÃ¶nningstedt</td>\n",
       "      <td>75</td>\n",
       "    </tr>\n",
       "    <tr>\n",
       "      <th>2</th>\n",
       "      <td>CHF 3770</td>\n",
       "      <td>Sport Boat</td>\n",
       "      <td>Marine power boats</td>\n",
       "      <td>new boat from stock</td>\n",
       "      <td>0</td>\n",
       "      <td>3.69</td>\n",
       "      <td>1.42</td>\n",
       "      <td>Aluminium</td>\n",
       "      <td>Switzerland Â» Lake of Zurich Â» StÃ¤fa ZH</td>\n",
       "      <td>124</td>\n",
       "    </tr>\n",
       "    <tr>\n",
       "      <th>3</th>\n",
       "      <td>DKK 25900</td>\n",
       "      <td>Sport Boat</td>\n",
       "      <td>Pioner power boats</td>\n",
       "      <td>new boat from stock</td>\n",
       "      <td>2020</td>\n",
       "      <td>3.00</td>\n",
       "      <td>1.00</td>\n",
       "      <td>NaN</td>\n",
       "      <td>Denmark Â» Svendborg</td>\n",
       "      <td>64</td>\n",
       "    </tr>\n",
       "    <tr>\n",
       "      <th>4</th>\n",
       "      <td>EUR 3399</td>\n",
       "      <td>Fishing Boat</td>\n",
       "      <td>Linder power boats</td>\n",
       "      <td>new boat from stock</td>\n",
       "      <td>2019</td>\n",
       "      <td>3.55</td>\n",
       "      <td>1.46</td>\n",
       "      <td>Aluminium</td>\n",
       "      <td>Germany Â» Bayern Â» MÃ¼nchen</td>\n",
       "      <td>58</td>\n",
       "    </tr>\n",
       "  </tbody>\n",
       "</table>\n",
       "</div>"
      ],
      "text/plain": [
       "       Price            Boat Type          Manufacturer                 Type  \\\n",
       "0   CHF 3337          Motor Yacht  Rigiflex power boats  new boat from stock   \n",
       "1   EUR 3490  Center console boat     Terhi power boats  new boat from stock   \n",
       "2   CHF 3770           Sport Boat    Marine power boats  new boat from stock   \n",
       "3  DKK 25900           Sport Boat    Pioner power boats  new boat from stock   \n",
       "4   EUR 3399         Fishing Boat    Linder power boats  new boat from stock   \n",
       "\n",
       "   Year Built  Length  Width       Material  \\\n",
       "0        2017    4.00   1.90            NaN   \n",
       "1        2020    4.00   1.50  Thermoplastic   \n",
       "2           0    3.69   1.42      Aluminium   \n",
       "3        2020    3.00   1.00            NaN   \n",
       "4        2019    3.55   1.46      Aluminium   \n",
       "\n",
       "                                     Location  Number of views last 7 days  \n",
       "0      Switzerland Â» Lake Geneva Â» VÃ©senaz                          226  \n",
       "1                    Germany Â» BÃ¶nningstedt                           75  \n",
       "2  Switzerland Â» Lake of Zurich Â» StÃ¤fa ZH                          124  \n",
       "3                        Denmark Â» Svendborg                           64  \n",
       "4               Germany Â» Bayern Â» MÃ¼nchen                           58  "
      ]
     },
     "execution_count": 4,
     "metadata": {},
     "output_type": "execute_result"
    }
   ],
   "source": [
    "# checking dataset\n",
    "df_boat.head()"
   ]
  },
  {
   "cell_type": "code",
   "execution_count": 5,
   "id": "6090b27a",
   "metadata": {},
   "outputs": [
    {
     "data": {
      "text/html": [
       "<div>\n",
       "<style scoped>\n",
       "    .dataframe tbody tr th:only-of-type {\n",
       "        vertical-align: middle;\n",
       "    }\n",
       "\n",
       "    .dataframe tbody tr th {\n",
       "        vertical-align: top;\n",
       "    }\n",
       "\n",
       "    .dataframe thead th {\n",
       "        text-align: right;\n",
       "    }\n",
       "</style>\n",
       "<table border=\"1\" class=\"dataframe\">\n",
       "  <thead>\n",
       "    <tr style=\"text-align: right;\">\n",
       "      <th></th>\n",
       "      <th>Year Built</th>\n",
       "      <th>Length</th>\n",
       "      <th>Width</th>\n",
       "      <th>Number of views last 7 days</th>\n",
       "    </tr>\n",
       "  </thead>\n",
       "  <tbody>\n",
       "    <tr>\n",
       "      <th>count</th>\n",
       "      <td>9888.000000</td>\n",
       "      <td>9879.000000</td>\n",
       "      <td>9832.000000</td>\n",
       "      <td>9888.000000</td>\n",
       "    </tr>\n",
       "    <tr>\n",
       "      <th>mean</th>\n",
       "      <td>1893.192860</td>\n",
       "      <td>11.570017</td>\n",
       "      <td>3.520124</td>\n",
       "      <td>149.160801</td>\n",
       "    </tr>\n",
       "    <tr>\n",
       "      <th>std</th>\n",
       "      <td>460.201582</td>\n",
       "      <td>6.002820</td>\n",
       "      <td>1.220534</td>\n",
       "      <td>151.819752</td>\n",
       "    </tr>\n",
       "    <tr>\n",
       "      <th>min</th>\n",
       "      <td>0.000000</td>\n",
       "      <td>1.040000</td>\n",
       "      <td>0.010000</td>\n",
       "      <td>13.000000</td>\n",
       "    </tr>\n",
       "    <tr>\n",
       "      <th>25%</th>\n",
       "      <td>1996.000000</td>\n",
       "      <td>7.470000</td>\n",
       "      <td>2.540000</td>\n",
       "      <td>70.000000</td>\n",
       "    </tr>\n",
       "    <tr>\n",
       "      <th>50%</th>\n",
       "      <td>2007.000000</td>\n",
       "      <td>10.280000</td>\n",
       "      <td>3.330000</td>\n",
       "      <td>108.000000</td>\n",
       "    </tr>\n",
       "    <tr>\n",
       "      <th>75%</th>\n",
       "      <td>2017.000000</td>\n",
       "      <td>13.930000</td>\n",
       "      <td>4.250000</td>\n",
       "      <td>172.000000</td>\n",
       "    </tr>\n",
       "    <tr>\n",
       "      <th>max</th>\n",
       "      <td>2021.000000</td>\n",
       "      <td>100.000000</td>\n",
       "      <td>25.160000</td>\n",
       "      <td>3263.000000</td>\n",
       "    </tr>\n",
       "  </tbody>\n",
       "</table>\n",
       "</div>"
      ],
      "text/plain": [
       "        Year Built       Length        Width  Number of views last 7 days\n",
       "count  9888.000000  9879.000000  9832.000000                  9888.000000\n",
       "mean   1893.192860    11.570017     3.520124                   149.160801\n",
       "std     460.201582     6.002820     1.220534                   151.819752\n",
       "min       0.000000     1.040000     0.010000                    13.000000\n",
       "25%    1996.000000     7.470000     2.540000                    70.000000\n",
       "50%    2007.000000    10.280000     3.330000                   108.000000\n",
       "75%    2017.000000    13.930000     4.250000                   172.000000\n",
       "max    2021.000000   100.000000    25.160000                  3263.000000"
      ]
     },
     "execution_count": 5,
     "metadata": {},
     "output_type": "execute_result"
    }
   ],
   "source": [
    "# checking statistical information\n",
    "df_boat.describe()"
   ]
  },
  {
   "cell_type": "code",
   "execution_count": 6,
   "id": "4d57b62b",
   "metadata": {},
   "outputs": [
    {
     "data": {
      "text/plain": [
       "(9888, 10)"
      ]
     },
     "execution_count": 6,
     "metadata": {},
     "output_type": "execute_result"
    }
   ],
   "source": [
    "# checking total rows and columns\n",
    "df_boat.shape"
   ]
  },
  {
   "cell_type": "code",
   "execution_count": 7,
   "id": "db82c80f",
   "metadata": {},
   "outputs": [
    {
     "data": {
      "text/plain": [
       "Price                           object\n",
       "Boat Type                       object\n",
       "Manufacturer                    object\n",
       "Type                            object\n",
       "Year Built                       int64\n",
       "Length                         float64\n",
       "Width                          float64\n",
       "Material                        object\n",
       "Location                        object\n",
       "Number of views last 7 days      int64\n",
       "dtype: object"
      ]
     },
     "execution_count": 7,
     "metadata": {},
     "output_type": "execute_result"
    }
   ],
   "source": [
    "# checking data types\n",
    "df_boat.dtypes"
   ]
  },
  {
   "cell_type": "markdown",
   "id": "6b6c7619",
   "metadata": {},
   "source": [
    "#### Checking counts of all columns"
   ]
  },
  {
   "cell_type": "code",
   "execution_count": 8,
   "id": "8046df2b",
   "metadata": {},
   "outputs": [
    {
     "data": {
      "text/plain": [
       "Price\n",
       "EUR 65000      77\n",
       "EUR 45000      67\n",
       "EUR 75000      64\n",
       "EUR 89000      64\n",
       "EUR 55000      61\n",
       "               ..\n",
       "EUR 1199000     1\n",
       "EUR 1197600     1\n",
       "EUR 1184590     1\n",
       "EUR 1163760     1\n",
       "CHF 3780        1\n",
       "Name: count, Length: 3182, dtype: int64"
      ]
     },
     "execution_count": 8,
     "metadata": {},
     "output_type": "execute_result"
    }
   ],
   "source": [
    "df_boat['Price'].value_counts(dropna = False)"
   ]
  },
  {
   "cell_type": "code",
   "execution_count": 9,
   "id": "1e12e6c4",
   "metadata": {},
   "outputs": [
    {
     "data": {
      "text/plain": [
       "Boat Type\n",
       "Motor Yacht                        2720\n",
       "Sport Boat                         1407\n",
       "Flybridge                          1194\n",
       "Trawler                             679\n",
       "Pilothouse                          613\n",
       "                                   ... \n",
       "Bowrider,Motor Yacht,Sport Boat       1\n",
       "Sport Boat,Working Boat               1\n",
       "Classic,Motor Yacht,Sport Boat        1\n",
       "Motor Yacht,Wakeboard/Wakesurf        1\n",
       "Classic,Runabout,Trawler              1\n",
       "Name: count, Length: 126, dtype: int64"
      ]
     },
     "execution_count": 9,
     "metadata": {},
     "output_type": "execute_result"
    }
   ],
   "source": [
    "df_boat['Boat Type'].value_counts(dropna = False)"
   ]
  },
  {
   "cell_type": "code",
   "execution_count": 10,
   "id": "d3f36653",
   "metadata": {},
   "outputs": [
    {
     "data": {
      "text/plain": [
       "Manufacturer\n",
       "NaN                            1338\n",
       "BÃ©nÃ©teau power boats          631\n",
       "Jeanneau power boats            537\n",
       "Sunseeker power boats           383\n",
       "Princess power boats            241\n",
       "                               ... \n",
       "ISA Yachts power boats            1\n",
       "Couach power boats                1\n",
       "Perini Navi Spa power boats       1\n",
       "Palmer Johnson power boats        1\n",
       "Hunter power boats                1\n",
       "Name: count, Length: 911, dtype: int64"
      ]
     },
     "execution_count": 10,
     "metadata": {},
     "output_type": "execute_result"
    }
   ],
   "source": [
    "df_boat['Manufacturer'].value_counts(dropna = False)"
   ]
  },
  {
   "cell_type": "code",
   "execution_count": 11,
   "id": "a109d3b6",
   "metadata": {},
   "outputs": [
    {
     "data": {
      "text/plain": [
       "Type\n",
       "Used boat,Diesel                4140\n",
       "Used boat,Unleaded              1686\n",
       "Used boat                       1462\n",
       "new boat from stock,Unleaded    1107\n",
       "new boat from stock              665\n",
       "new boat from stock,Diesel       291\n",
       "new boat on order,Unleaded       150\n",
       "Display Model,Unleaded            75\n",
       "new boat on order                 61\n",
       "new boat on order,Diesel          61\n",
       "Diesel                            57\n",
       "Used boat,Electric                27\n",
       "Unleaded                          22\n",
       "Display Model,Diesel              19\n",
       "new boat from stock,Electric      18\n",
       "Display Model                     18\n",
       "Used boat,Gas                     10\n",
       "NaN                                6\n",
       "Display Model,Electric             6\n",
       "new boat from stock,Gas            2\n",
       "new boat from stock,Hybrid         1\n",
       "Used boat,Hybrid                   1\n",
       "Display Model,Gas                  1\n",
       "Electric                           1\n",
       "Used boat,Propane                  1\n",
       "Name: count, dtype: int64"
      ]
     },
     "execution_count": 11,
     "metadata": {},
     "output_type": "execute_result"
    }
   ],
   "source": [
    "df_boat['Type'].value_counts(dropna = False)"
   ]
  },
  {
   "cell_type": "code",
   "execution_count": 12,
   "id": "17cc3590",
   "metadata": {},
   "outputs": [
    {
     "data": {
      "text/plain": [
       "Year Built\n",
       "2020    1279\n",
       "2019     663\n",
       "0        551\n",
       "2008     457\n",
       "2007     393\n",
       "        ... \n",
       "1914       1\n",
       "1895       1\n",
       "1885       1\n",
       "1931       1\n",
       "1900       1\n",
       "Name: count, Length: 122, dtype: int64"
      ]
     },
     "execution_count": 12,
     "metadata": {},
     "output_type": "execute_result"
    }
   ],
   "source": [
    "df_boat['Year Built'].value_counts(dropna = False)"
   ]
  },
  {
   "cell_type": "code",
   "execution_count": 13,
   "id": "11c9e9fb",
   "metadata": {},
   "outputs": [
    {
     "data": {
      "text/plain": [
       "Length\n",
       "12.00    109\n",
       "9.00     107\n",
       "11.00     96\n",
       "10.00     96\n",
       "6.50      82\n",
       "        ... \n",
       "42.58      1\n",
       "23.30      1\n",
       "13.07      1\n",
       "26.63      1\n",
       "3.60       1\n",
       "Name: count, Length: 1613, dtype: int64"
      ]
     },
     "execution_count": 13,
     "metadata": {},
     "output_type": "execute_result"
    }
   ],
   "source": [
    "df_boat['Length'].value_counts(dropna = False)"
   ]
  },
  {
   "cell_type": "code",
   "execution_count": 14,
   "id": "31c80ea3",
   "metadata": {},
   "outputs": [
    {
     "data": {
      "text/plain": [
       "Width\n",
       "2.50    346\n",
       "3.00    251\n",
       "2.59    204\n",
       "2.55    195\n",
       "2.54    170\n",
       "       ... \n",
       "7.44      1\n",
       "6.92      1\n",
       "6.95      1\n",
       "7.47      1\n",
       "1.89      1\n",
       "Name: count, Length: 576, dtype: int64"
      ]
     },
     "execution_count": 14,
     "metadata": {},
     "output_type": "execute_result"
    }
   ],
   "source": [
    "df_boat['Width'].value_counts(dropna = False)"
   ]
  },
  {
   "cell_type": "code",
   "execution_count": 15,
   "id": "d41706f5",
   "metadata": {},
   "outputs": [
    {
     "data": {
      "text/plain": [
       "Material\n",
       "GRP                    5484\n",
       "NaN                    1749\n",
       "PVC                    1123\n",
       "Steel                   939\n",
       "Wood                    235\n",
       "Aluminium               229\n",
       "Plastic                  77\n",
       "Carbon Fiber             30\n",
       "Thermoplastic            15\n",
       "Hypalon                   5\n",
       "Reinforced concrete       1\n",
       "Rubber                    1\n",
       "Name: count, dtype: int64"
      ]
     },
     "execution_count": 15,
     "metadata": {},
     "output_type": "execute_result"
    }
   ],
   "source": [
    "df_boat['Material'].value_counts(dropna = False)"
   ]
  },
  {
   "cell_type": "code",
   "execution_count": 16,
   "id": "0fc20d63",
   "metadata": {},
   "outputs": [
    {
     "data": {
      "text/plain": [
       "Location\n",
       "Netherlands Â» In verkoophaven                      309\n",
       "Croatia (Hrvatska)                                  244\n",
       "Italy Â» Toscana Â» Toscana                         173\n",
       "Italy                                               155\n",
       "France                                              152\n",
       "                                                   ... \n",
       "Italy Â» La Spezia, Italie                            1\n",
       "France Â» Bretagne Â» Bretagne                        1\n",
       "Italy Â» Linz Marine Test Centre \"Italo Monzino\"      1\n",
       "Italy Â» Adriatic Sea (Fano)                          1\n",
       "Switzerland Â» Bielersee Â» Gerolfingen               1\n",
       "Name: count, Length: 2996, dtype: int64"
      ]
     },
     "execution_count": 16,
     "metadata": {},
     "output_type": "execute_result"
    }
   ],
   "source": [
    "df_boat['Location'].value_counts(dropna = False)"
   ]
  },
  {
   "cell_type": "code",
   "execution_count": 17,
   "id": "e50031e7",
   "metadata": {},
   "outputs": [
    {
     "data": {
      "text/plain": [
       "Number of views last 7 days\n",
       "68      91\n",
       "74      87\n",
       "62      84\n",
       "67      84\n",
       "81      84\n",
       "        ..\n",
       "582      1\n",
       "332      1\n",
       "868      1\n",
       "435      1\n",
       "1116     1\n",
       "Name: count, Length: 674, dtype: int64"
      ]
     },
     "execution_count": 17,
     "metadata": {},
     "output_type": "execute_result"
    }
   ],
   "source": [
    "df_boat['Number of views last 7 days'].value_counts(dropna = False)"
   ]
  },
  {
   "cell_type": "markdown",
   "id": "8c67e147",
   "metadata": {},
   "source": [
    "## Cleaning the dataset"
   ]
  },
  {
   "cell_type": "code",
   "execution_count": 18,
   "id": "a420b2df",
   "metadata": {},
   "outputs": [
    {
     "data": {
      "text/plain": [
       "Price                             0\n",
       "Boat Type                         0\n",
       "Manufacturer                   1338\n",
       "Type                              6\n",
       "Year Built                        0\n",
       "Length                            9\n",
       "Width                            56\n",
       "Material                       1749\n",
       "Location                         36\n",
       "Number of views last 7 days       0\n",
       "dtype: int64"
      ]
     },
     "execution_count": 18,
     "metadata": {},
     "output_type": "execute_result"
    }
   ],
   "source": [
    "# checking for missing values\n",
    "df_boat.isnull().sum()"
   ]
  },
  {
   "cell_type": "code",
   "execution_count": 19,
   "id": "d14e8671",
   "metadata": {},
   "outputs": [
    {
     "data": {
      "text/plain": [
       "3194"
      ]
     },
     "execution_count": 19,
     "metadata": {},
     "output_type": "execute_result"
    }
   ],
   "source": [
    "df_boat.isnull().sum().sum()"
   ]
  },
  {
   "cell_type": "markdown",
   "id": "1340c7c1",
   "metadata": {},
   "source": [
    "Note: 'Manufacturer' and 'Material' have too many missing values to simply be deleted, I will address the other columns before changing any missing values to NaNs."
   ]
  },
  {
   "cell_type": "code",
   "execution_count": 20,
   "id": "2b4aecaa",
   "metadata": {},
   "outputs": [],
   "source": [
    "# Removing all blanks from affected columns except 'Manufacturer' and 'Material'\n",
    "df_boat1 = df_boat.dropna(subset = ['Type', 'Length', 'Width', 'Location'])"
   ]
  },
  {
   "cell_type": "code",
   "execution_count": 21,
   "id": "d6fd4f00",
   "metadata": {},
   "outputs": [
    {
     "data": {
      "text/plain": [
       "Price                             0\n",
       "Boat Type                         0\n",
       "Manufacturer                   1314\n",
       "Type                              0\n",
       "Year Built                        0\n",
       "Length                            0\n",
       "Width                             0\n",
       "Material                       1712\n",
       "Location                          0\n",
       "Number of views last 7 days       0\n",
       "dtype: int64"
      ]
     },
     "execution_count": 21,
     "metadata": {},
     "output_type": "execute_result"
    }
   ],
   "source": [
    "# checking work\n",
    "df_boat1.isnull().sum()"
   ]
  },
  {
   "cell_type": "code",
   "execution_count": 22,
   "id": "c4580336",
   "metadata": {},
   "outputs": [
    {
     "data": {
      "text/plain": [
       "3026"
      ]
     },
     "execution_count": 22,
     "metadata": {},
     "output_type": "execute_result"
    }
   ],
   "source": [
    "df_boat1.isnull().sum().sum()"
   ]
  },
  {
   "cell_type": "markdown",
   "id": "857a0f61",
   "metadata": {},
   "source": [
    "Note: 168 entries containing missing values removed."
   ]
  },
  {
   "cell_type": "code",
   "execution_count": 23,
   "id": "579ecfc8",
   "metadata": {},
   "outputs": [],
   "source": [
    "# replacing missing values with NaN\n",
    "df_boat2 = df_boat1.fillna(value = 'NaN')"
   ]
  },
  {
   "cell_type": "code",
   "execution_count": 24,
   "id": "350b1581",
   "metadata": {},
   "outputs": [
    {
     "data": {
      "text/plain": [
       "Price                          0\n",
       "Boat Type                      0\n",
       "Manufacturer                   0\n",
       "Type                           0\n",
       "Year Built                     0\n",
       "Length                         0\n",
       "Width                          0\n",
       "Material                       0\n",
       "Location                       0\n",
       "Number of views last 7 days    0\n",
       "dtype: int64"
      ]
     },
     "execution_count": 24,
     "metadata": {},
     "output_type": "execute_result"
    }
   ],
   "source": [
    "# checking work\n",
    "df_boat2.isnull().sum()"
   ]
  },
  {
   "cell_type": "code",
   "execution_count": 25,
   "id": "3702476c",
   "metadata": {},
   "outputs": [],
   "source": [
    "# checking for duplicates\n",
    "df_dups = df_boat2[df_boat2.duplicated()]"
   ]
  },
  {
   "cell_type": "code",
   "execution_count": 26,
   "id": "a2c265ce",
   "metadata": {},
   "outputs": [
    {
     "data": {
      "text/plain": [
       "(0, 10)"
      ]
     },
     "execution_count": 26,
     "metadata": {},
     "output_type": "execute_result"
    }
   ],
   "source": [
    "df_dups.shape"
   ]
  },
  {
   "cell_type": "markdown",
   "id": "89d04c2f",
   "metadata": {},
   "source": [
    "Note: No duplicates found"
   ]
  },
  {
   "cell_type": "code",
   "execution_count": 27,
   "id": "a8efa8a4",
   "metadata": {},
   "outputs": [],
   "source": [
    "# checking for mixed-type data,\n",
    "for col in df_boat2.columns.tolist():\n",
    "      weird = (df_boat2[[col]].applymap(type) != df_boat2[[col]].iloc[0].apply(type)).any(axis = 1)\n",
    "      if len (df_boat2[weird]) > 0:\n",
    "        print (col)"
   ]
  },
  {
   "cell_type": "markdown",
   "id": "c2cae8a9",
   "metadata": {},
   "source": [
    "Note: No mixed types found"
   ]
  },
  {
   "cell_type": "code",
   "execution_count": 28,
   "id": "b0f9f0fd",
   "metadata": {},
   "outputs": [],
   "source": [
    "# Splitting the 'Price' column and moving the string portion into a new column 'Currency'\n",
    "df_boat2[['Currency', 'Price']] = df_boat2['Price'].str.split(' ', n=1, expand=True)"
   ]
  },
  {
   "cell_type": "code",
   "execution_count": 29,
   "id": "c7cc45c7",
   "metadata": {},
   "outputs": [
    {
     "data": {
      "text/html": [
       "<div>\n",
       "<style scoped>\n",
       "    .dataframe tbody tr th:only-of-type {\n",
       "        vertical-align: middle;\n",
       "    }\n",
       "\n",
       "    .dataframe tbody tr th {\n",
       "        vertical-align: top;\n",
       "    }\n",
       "\n",
       "    .dataframe thead th {\n",
       "        text-align: right;\n",
       "    }\n",
       "</style>\n",
       "<table border=\"1\" class=\"dataframe\">\n",
       "  <thead>\n",
       "    <tr style=\"text-align: right;\">\n",
       "      <th></th>\n",
       "      <th>Price</th>\n",
       "      <th>Boat Type</th>\n",
       "      <th>Manufacturer</th>\n",
       "      <th>Type</th>\n",
       "      <th>Year Built</th>\n",
       "      <th>Length</th>\n",
       "      <th>Width</th>\n",
       "      <th>Material</th>\n",
       "      <th>Location</th>\n",
       "      <th>Number of views last 7 days</th>\n",
       "      <th>Currency</th>\n",
       "    </tr>\n",
       "  </thead>\n",
       "  <tbody>\n",
       "    <tr>\n",
       "      <th>0</th>\n",
       "      <td>3337</td>\n",
       "      <td>Motor Yacht</td>\n",
       "      <td>Rigiflex power boats</td>\n",
       "      <td>new boat from stock</td>\n",
       "      <td>2017</td>\n",
       "      <td>4.00</td>\n",
       "      <td>1.90</td>\n",
       "      <td>NaN</td>\n",
       "      <td>Switzerland Â» Lake Geneva Â» VÃ©senaz</td>\n",
       "      <td>226</td>\n",
       "      <td>CHF</td>\n",
       "    </tr>\n",
       "    <tr>\n",
       "      <th>1</th>\n",
       "      <td>3490</td>\n",
       "      <td>Center console boat</td>\n",
       "      <td>Terhi power boats</td>\n",
       "      <td>new boat from stock</td>\n",
       "      <td>2020</td>\n",
       "      <td>4.00</td>\n",
       "      <td>1.50</td>\n",
       "      <td>Thermoplastic</td>\n",
       "      <td>Germany Â» BÃ¶nningstedt</td>\n",
       "      <td>75</td>\n",
       "      <td>EUR</td>\n",
       "    </tr>\n",
       "    <tr>\n",
       "      <th>2</th>\n",
       "      <td>3770</td>\n",
       "      <td>Sport Boat</td>\n",
       "      <td>Marine power boats</td>\n",
       "      <td>new boat from stock</td>\n",
       "      <td>0</td>\n",
       "      <td>3.69</td>\n",
       "      <td>1.42</td>\n",
       "      <td>Aluminium</td>\n",
       "      <td>Switzerland Â» Lake of Zurich Â» StÃ¤fa ZH</td>\n",
       "      <td>124</td>\n",
       "      <td>CHF</td>\n",
       "    </tr>\n",
       "    <tr>\n",
       "      <th>3</th>\n",
       "      <td>25900</td>\n",
       "      <td>Sport Boat</td>\n",
       "      <td>Pioner power boats</td>\n",
       "      <td>new boat from stock</td>\n",
       "      <td>2020</td>\n",
       "      <td>3.00</td>\n",
       "      <td>1.00</td>\n",
       "      <td>NaN</td>\n",
       "      <td>Denmark Â» Svendborg</td>\n",
       "      <td>64</td>\n",
       "      <td>DKK</td>\n",
       "    </tr>\n",
       "    <tr>\n",
       "      <th>4</th>\n",
       "      <td>3399</td>\n",
       "      <td>Fishing Boat</td>\n",
       "      <td>Linder power boats</td>\n",
       "      <td>new boat from stock</td>\n",
       "      <td>2019</td>\n",
       "      <td>3.55</td>\n",
       "      <td>1.46</td>\n",
       "      <td>Aluminium</td>\n",
       "      <td>Germany Â» Bayern Â» MÃ¼nchen</td>\n",
       "      <td>58</td>\n",
       "      <td>EUR</td>\n",
       "    </tr>\n",
       "  </tbody>\n",
       "</table>\n",
       "</div>"
      ],
      "text/plain": [
       "   Price            Boat Type          Manufacturer                 Type  \\\n",
       "0   3337          Motor Yacht  Rigiflex power boats  new boat from stock   \n",
       "1   3490  Center console boat     Terhi power boats  new boat from stock   \n",
       "2   3770           Sport Boat    Marine power boats  new boat from stock   \n",
       "3  25900           Sport Boat    Pioner power boats  new boat from stock   \n",
       "4   3399         Fishing Boat    Linder power boats  new boat from stock   \n",
       "\n",
       "   Year Built  Length  Width       Material  \\\n",
       "0        2017    4.00   1.90            NaN   \n",
       "1        2020    4.00   1.50  Thermoplastic   \n",
       "2           0    3.69   1.42      Aluminium   \n",
       "3        2020    3.00   1.00            NaN   \n",
       "4        2019    3.55   1.46      Aluminium   \n",
       "\n",
       "                                     Location  Number of views last 7 days  \\\n",
       "0      Switzerland Â» Lake Geneva Â» VÃ©senaz                          226   \n",
       "1                    Germany Â» BÃ¶nningstedt                           75   \n",
       "2  Switzerland Â» Lake of Zurich Â» StÃ¤fa ZH                          124   \n",
       "3                        Denmark Â» Svendborg                           64   \n",
       "4               Germany Â» Bayern Â» MÃ¼nchen                           58   \n",
       "\n",
       "  Currency  \n",
       "0      CHF  \n",
       "1      EUR  \n",
       "2      CHF  \n",
       "3      DKK  \n",
       "4      EUR  "
      ]
     },
     "execution_count": 29,
     "metadata": {},
     "output_type": "execute_result"
    }
   ],
   "source": [
    "# checking work\n",
    "df_boat2.head()"
   ]
  },
  {
   "cell_type": "code",
   "execution_count": 30,
   "id": "ee4fce3a",
   "metadata": {},
   "outputs": [
    {
     "data": {
      "text/plain": [
       "Currency\n",
       "EUR    8346\n",
       "CHF     976\n",
       "Â£      295\n",
       "DKK     173\n",
       "Name: count, dtype: int64"
      ]
     },
     "execution_count": 30,
     "metadata": {},
     "output_type": "execute_result"
    }
   ],
   "source": [
    "df_boat2['Currency'].value_counts(dropna = False)"
   ]
  },
  {
   "cell_type": "code",
   "execution_count": 31,
   "id": "89fbf646",
   "metadata": {},
   "outputs": [],
   "source": [
    "# changing Â£ to GBP \n",
    "df_boat2['Currency'] = df_boat2['Currency'].str.replace('Â£', 'GBP')"
   ]
  },
  {
   "cell_type": "code",
   "execution_count": 32,
   "id": "608779d4",
   "metadata": {},
   "outputs": [
    {
     "data": {
      "text/plain": [
       "Currency\n",
       "EUR    8346\n",
       "CHF     976\n",
       "GBP     295\n",
       "DKK     173\n",
       "Name: count, dtype: int64"
      ]
     },
     "execution_count": 32,
     "metadata": {},
     "output_type": "execute_result"
    }
   ],
   "source": [
    "# checking work\n",
    "df_boat2['Currency'].value_counts(dropna = False)"
   ]
  },
  {
   "cell_type": "markdown",
   "id": "801029df",
   "metadata": {},
   "source": [
    "Note: I will create a price column that converts all prices into a single currency so that each boat can be compared more easily. I have chosen to go with the Euro.\n",
    "\n",
    "Conversion rates were taken from Google's online converter on October 4th, 2023."
   ]
  },
  {
   "cell_type": "code",
   "execution_count": 33,
   "id": "053ea83a",
   "metadata": {},
   "outputs": [
    {
     "data": {
      "text/plain": [
       "Price                           object\n",
       "Boat Type                       object\n",
       "Manufacturer                    object\n",
       "Type                            object\n",
       "Year Built                       int64\n",
       "Length                         float64\n",
       "Width                          float64\n",
       "Material                        object\n",
       "Location                        object\n",
       "Number of views last 7 days      int64\n",
       "Currency                        object\n",
       "dtype: object"
      ]
     },
     "execution_count": 33,
     "metadata": {},
     "output_type": "execute_result"
    }
   ],
   "source": [
    "# checking data types\n",
    "df_boat2.dtypes"
   ]
  },
  {
   "cell_type": "code",
   "execution_count": 34,
   "id": "83222d30",
   "metadata": {},
   "outputs": [],
   "source": [
    "# changing 'Price' to int64 data type\n",
    "df_boat2['Price'] = df_boat2['Price'].astype('int64')"
   ]
  },
  {
   "cell_type": "code",
   "execution_count": 35,
   "id": "347ee067",
   "metadata": {},
   "outputs": [
    {
     "data": {
      "text/plain": [
       "Price                            int64\n",
       "Boat Type                       object\n",
       "Manufacturer                    object\n",
       "Type                            object\n",
       "Year Built                       int64\n",
       "Length                         float64\n",
       "Width                          float64\n",
       "Material                        object\n",
       "Location                        object\n",
       "Number of views last 7 days      int64\n",
       "Currency                        object\n",
       "dtype: object"
      ]
     },
     "execution_count": 35,
     "metadata": {},
     "output_type": "execute_result"
    }
   ],
   "source": [
    "# checking work\n",
    "df_boat2.dtypes"
   ]
  },
  {
   "cell_type": "code",
   "execution_count": 36,
   "id": "414b31f2",
   "metadata": {},
   "outputs": [],
   "source": [
    "# conversion rates to EUR from Oct 4th, 2023\n",
    "conversion_rates = {'EUR': 1.0, 'CHF': 0.96, 'GBP': 0.87, 'DKK': 7.46}"
   ]
  },
  {
   "cell_type": "code",
   "execution_count": 37,
   "id": "fa7f9676",
   "metadata": {},
   "outputs": [],
   "source": [
    "# function to convert price to EUR and round to the nearest whole number\n",
    "def convert_to_eur(row):\n",
    "    if row['Currency'] == 'EUR':\n",
    "        return row['Price']\n",
    "    elif row['Currency'] in conversion_rates:\n",
    "        return round(row['Price'] / conversion_rates[row['Currency']])\n",
    "    else:\n",
    "        return None"
   ]
  },
  {
   "cell_type": "code",
   "execution_count": 38,
   "id": "93247ec6",
   "metadata": {},
   "outputs": [],
   "source": [
    "# creating 'Price in EUR' column\n",
    "df_boat2['Price in EUR'] = df_boat2.apply(convert_to_eur, axis=1)"
   ]
  },
  {
   "cell_type": "code",
   "execution_count": 39,
   "id": "ddae2ab2",
   "metadata": {},
   "outputs": [
    {
     "data": {
      "text/html": [
       "<div>\n",
       "<style scoped>\n",
       "    .dataframe tbody tr th:only-of-type {\n",
       "        vertical-align: middle;\n",
       "    }\n",
       "\n",
       "    .dataframe tbody tr th {\n",
       "        vertical-align: top;\n",
       "    }\n",
       "\n",
       "    .dataframe thead th {\n",
       "        text-align: right;\n",
       "    }\n",
       "</style>\n",
       "<table border=\"1\" class=\"dataframe\">\n",
       "  <thead>\n",
       "    <tr style=\"text-align: right;\">\n",
       "      <th></th>\n",
       "      <th>Price</th>\n",
       "      <th>Boat Type</th>\n",
       "      <th>Manufacturer</th>\n",
       "      <th>Type</th>\n",
       "      <th>Year Built</th>\n",
       "      <th>Length</th>\n",
       "      <th>Width</th>\n",
       "      <th>Material</th>\n",
       "      <th>Location</th>\n",
       "      <th>Number of views last 7 days</th>\n",
       "      <th>Currency</th>\n",
       "      <th>Price in EUR</th>\n",
       "    </tr>\n",
       "  </thead>\n",
       "  <tbody>\n",
       "    <tr>\n",
       "      <th>0</th>\n",
       "      <td>3337</td>\n",
       "      <td>Motor Yacht</td>\n",
       "      <td>Rigiflex power boats</td>\n",
       "      <td>new boat from stock</td>\n",
       "      <td>2017</td>\n",
       "      <td>4.00</td>\n",
       "      <td>1.90</td>\n",
       "      <td>NaN</td>\n",
       "      <td>Switzerland Â» Lake Geneva Â» VÃ©senaz</td>\n",
       "      <td>226</td>\n",
       "      <td>CHF</td>\n",
       "      <td>3476</td>\n",
       "    </tr>\n",
       "    <tr>\n",
       "      <th>1</th>\n",
       "      <td>3490</td>\n",
       "      <td>Center console boat</td>\n",
       "      <td>Terhi power boats</td>\n",
       "      <td>new boat from stock</td>\n",
       "      <td>2020</td>\n",
       "      <td>4.00</td>\n",
       "      <td>1.50</td>\n",
       "      <td>Thermoplastic</td>\n",
       "      <td>Germany Â» BÃ¶nningstedt</td>\n",
       "      <td>75</td>\n",
       "      <td>EUR</td>\n",
       "      <td>3490</td>\n",
       "    </tr>\n",
       "    <tr>\n",
       "      <th>2</th>\n",
       "      <td>3770</td>\n",
       "      <td>Sport Boat</td>\n",
       "      <td>Marine power boats</td>\n",
       "      <td>new boat from stock</td>\n",
       "      <td>0</td>\n",
       "      <td>3.69</td>\n",
       "      <td>1.42</td>\n",
       "      <td>Aluminium</td>\n",
       "      <td>Switzerland Â» Lake of Zurich Â» StÃ¤fa ZH</td>\n",
       "      <td>124</td>\n",
       "      <td>CHF</td>\n",
       "      <td>3927</td>\n",
       "    </tr>\n",
       "    <tr>\n",
       "      <th>3</th>\n",
       "      <td>25900</td>\n",
       "      <td>Sport Boat</td>\n",
       "      <td>Pioner power boats</td>\n",
       "      <td>new boat from stock</td>\n",
       "      <td>2020</td>\n",
       "      <td>3.00</td>\n",
       "      <td>1.00</td>\n",
       "      <td>NaN</td>\n",
       "      <td>Denmark Â» Svendborg</td>\n",
       "      <td>64</td>\n",
       "      <td>DKK</td>\n",
       "      <td>3472</td>\n",
       "    </tr>\n",
       "    <tr>\n",
       "      <th>4</th>\n",
       "      <td>3399</td>\n",
       "      <td>Fishing Boat</td>\n",
       "      <td>Linder power boats</td>\n",
       "      <td>new boat from stock</td>\n",
       "      <td>2019</td>\n",
       "      <td>3.55</td>\n",
       "      <td>1.46</td>\n",
       "      <td>Aluminium</td>\n",
       "      <td>Germany Â» Bayern Â» MÃ¼nchen</td>\n",
       "      <td>58</td>\n",
       "      <td>EUR</td>\n",
       "      <td>3399</td>\n",
       "    </tr>\n",
       "  </tbody>\n",
       "</table>\n",
       "</div>"
      ],
      "text/plain": [
       "   Price            Boat Type          Manufacturer                 Type  \\\n",
       "0   3337          Motor Yacht  Rigiflex power boats  new boat from stock   \n",
       "1   3490  Center console boat     Terhi power boats  new boat from stock   \n",
       "2   3770           Sport Boat    Marine power boats  new boat from stock   \n",
       "3  25900           Sport Boat    Pioner power boats  new boat from stock   \n",
       "4   3399         Fishing Boat    Linder power boats  new boat from stock   \n",
       "\n",
       "   Year Built  Length  Width       Material  \\\n",
       "0        2017    4.00   1.90            NaN   \n",
       "1        2020    4.00   1.50  Thermoplastic   \n",
       "2           0    3.69   1.42      Aluminium   \n",
       "3        2020    3.00   1.00            NaN   \n",
       "4        2019    3.55   1.46      Aluminium   \n",
       "\n",
       "                                     Location  Number of views last 7 days  \\\n",
       "0      Switzerland Â» Lake Geneva Â» VÃ©senaz                          226   \n",
       "1                    Germany Â» BÃ¶nningstedt                           75   \n",
       "2  Switzerland Â» Lake of Zurich Â» StÃ¤fa ZH                          124   \n",
       "3                        Denmark Â» Svendborg                           64   \n",
       "4               Germany Â» Bayern Â» MÃ¼nchen                           58   \n",
       "\n",
       "  Currency  Price in EUR  \n",
       "0      CHF          3476  \n",
       "1      EUR          3490  \n",
       "2      CHF          3927  \n",
       "3      DKK          3472  \n",
       "4      EUR          3399  "
      ]
     },
     "execution_count": 39,
     "metadata": {},
     "output_type": "execute_result"
    }
   ],
   "source": [
    "# checking work\n",
    "df_boat2.head()"
   ]
  },
  {
   "cell_type": "markdown",
   "id": "5e8ea8e9",
   "metadata": {},
   "source": [
    "Note: Unsure what to do with 'Manufacturer' and 'Type'. I will leave NaN in for now."
   ]
  },
  {
   "cell_type": "code",
   "execution_count": 40,
   "id": "3bab1269",
   "metadata": {},
   "outputs": [
    {
     "data": {
      "text/plain": [
       "Year Built\n",
       "2020    1277\n",
       "2019     658\n",
       "0        549\n",
       "2008     454\n",
       "2007     389\n",
       "        ... \n",
       "1895       1\n",
       "1885       1\n",
       "1898       1\n",
       "1937       1\n",
       "1900       1\n",
       "Name: count, Length: 121, dtype: int64"
      ]
     },
     "execution_count": 40,
     "metadata": {},
     "output_type": "execute_result"
    }
   ],
   "source": [
    "df_boat2['Year Built'].value_counts(dropna = False)"
   ]
  },
  {
   "cell_type": "code",
   "execution_count": 41,
   "id": "66e22194",
   "metadata": {},
   "outputs": [],
   "source": [
    "# removing 549 rows where 'Year Built' is equal to 0\n",
    "df_boat3 = df_boat2[df_boat2['Year Built'] != 0]"
   ]
  },
  {
   "cell_type": "code",
   "execution_count": 42,
   "id": "5caa03ed",
   "metadata": {},
   "outputs": [
    {
     "data": {
      "text/plain": [
       "Year Built\n",
       "2020    1277\n",
       "2019     658\n",
       "2008     454\n",
       "2007     389\n",
       "2006     389\n",
       "        ... \n",
       "1914       1\n",
       "1895       1\n",
       "1885       1\n",
       "1931       1\n",
       "1900       1\n",
       "Name: count, Length: 120, dtype: int64"
      ]
     },
     "execution_count": 42,
     "metadata": {},
     "output_type": "execute_result"
    }
   ],
   "source": [
    "# checking work\n",
    "df_boat3['Year Built'].value_counts(dropna = False)"
   ]
  },
  {
   "cell_type": "code",
   "execution_count": 43,
   "id": "849dcb30",
   "metadata": {},
   "outputs": [
    {
     "data": {
      "text/html": [
       "<div>\n",
       "<style scoped>\n",
       "    .dataframe tbody tr th:only-of-type {\n",
       "        vertical-align: middle;\n",
       "    }\n",
       "\n",
       "    .dataframe tbody tr th {\n",
       "        vertical-align: top;\n",
       "    }\n",
       "\n",
       "    .dataframe thead th {\n",
       "        text-align: right;\n",
       "    }\n",
       "</style>\n",
       "<table border=\"1\" class=\"dataframe\">\n",
       "  <thead>\n",
       "    <tr style=\"text-align: right;\">\n",
       "      <th></th>\n",
       "      <th>Price</th>\n",
       "      <th>Boat Type</th>\n",
       "      <th>Manufacturer</th>\n",
       "      <th>Type</th>\n",
       "      <th>Year Built</th>\n",
       "      <th>Length</th>\n",
       "      <th>Width</th>\n",
       "      <th>Material</th>\n",
       "      <th>Location</th>\n",
       "      <th>Number of views last 7 days</th>\n",
       "      <th>Currency</th>\n",
       "      <th>Price in EUR</th>\n",
       "    </tr>\n",
       "  </thead>\n",
       "  <tbody>\n",
       "    <tr>\n",
       "      <th>0</th>\n",
       "      <td>3337</td>\n",
       "      <td>Motor Yacht</td>\n",
       "      <td>Rigiflex power boats</td>\n",
       "      <td>new boat from stock</td>\n",
       "      <td>2017</td>\n",
       "      <td>4.00</td>\n",
       "      <td>1.90</td>\n",
       "      <td>NaN</td>\n",
       "      <td>Switzerland Â» Lake Geneva Â» VÃ©senaz</td>\n",
       "      <td>226</td>\n",
       "      <td>CHF</td>\n",
       "      <td>3476</td>\n",
       "    </tr>\n",
       "    <tr>\n",
       "      <th>1</th>\n",
       "      <td>3490</td>\n",
       "      <td>Center console boat</td>\n",
       "      <td>Terhi power boats</td>\n",
       "      <td>new boat from stock</td>\n",
       "      <td>2020</td>\n",
       "      <td>4.00</td>\n",
       "      <td>1.50</td>\n",
       "      <td>Thermoplastic</td>\n",
       "      <td>Germany Â» BÃ¶nningstedt</td>\n",
       "      <td>75</td>\n",
       "      <td>EUR</td>\n",
       "      <td>3490</td>\n",
       "    </tr>\n",
       "    <tr>\n",
       "      <th>3</th>\n",
       "      <td>25900</td>\n",
       "      <td>Sport Boat</td>\n",
       "      <td>Pioner power boats</td>\n",
       "      <td>new boat from stock</td>\n",
       "      <td>2020</td>\n",
       "      <td>3.00</td>\n",
       "      <td>1.00</td>\n",
       "      <td>NaN</td>\n",
       "      <td>Denmark Â» Svendborg</td>\n",
       "      <td>64</td>\n",
       "      <td>DKK</td>\n",
       "      <td>3472</td>\n",
       "    </tr>\n",
       "    <tr>\n",
       "      <th>4</th>\n",
       "      <td>3399</td>\n",
       "      <td>Fishing Boat</td>\n",
       "      <td>Linder power boats</td>\n",
       "      <td>new boat from stock</td>\n",
       "      <td>2019</td>\n",
       "      <td>3.55</td>\n",
       "      <td>1.46</td>\n",
       "      <td>Aluminium</td>\n",
       "      <td>Germany Â» Bayern Â» MÃ¼nchen</td>\n",
       "      <td>58</td>\n",
       "      <td>EUR</td>\n",
       "      <td>3399</td>\n",
       "    </tr>\n",
       "    <tr>\n",
       "      <th>6</th>\n",
       "      <td>3600</td>\n",
       "      <td>Catamaran</td>\n",
       "      <td>NaN</td>\n",
       "      <td>Used boat,Unleaded</td>\n",
       "      <td>1999</td>\n",
       "      <td>6.20</td>\n",
       "      <td>2.38</td>\n",
       "      <td>Aluminium</td>\n",
       "      <td>Switzerland Â» Neuenburgersee Â» Yvonand</td>\n",
       "      <td>474</td>\n",
       "      <td>CHF</td>\n",
       "      <td>3750</td>\n",
       "    </tr>\n",
       "  </tbody>\n",
       "</table>\n",
       "</div>"
      ],
      "text/plain": [
       "   Price            Boat Type          Manufacturer                 Type  \\\n",
       "0   3337          Motor Yacht  Rigiflex power boats  new boat from stock   \n",
       "1   3490  Center console boat     Terhi power boats  new boat from stock   \n",
       "3  25900           Sport Boat    Pioner power boats  new boat from stock   \n",
       "4   3399         Fishing Boat    Linder power boats  new boat from stock   \n",
       "6   3600            Catamaran                   NaN   Used boat,Unleaded   \n",
       "\n",
       "   Year Built  Length  Width       Material  \\\n",
       "0        2017    4.00   1.90            NaN   \n",
       "1        2020    4.00   1.50  Thermoplastic   \n",
       "3        2020    3.00   1.00            NaN   \n",
       "4        2019    3.55   1.46      Aluminium   \n",
       "6        1999    6.20   2.38      Aluminium   \n",
       "\n",
       "                                    Location  Number of views last 7 days  \\\n",
       "0     Switzerland Â» Lake Geneva Â» VÃ©senaz                          226   \n",
       "1                   Germany Â» BÃ¶nningstedt                           75   \n",
       "3                       Denmark Â» Svendborg                           64   \n",
       "4              Germany Â» Bayern Â» MÃ¼nchen                           58   \n",
       "6  Switzerland Â» Neuenburgersee Â» Yvonand                           474   \n",
       "\n",
       "  Currency  Price in EUR  \n",
       "0      CHF          3476  \n",
       "1      EUR          3490  \n",
       "3      DKK          3472  \n",
       "4      EUR          3399  \n",
       "6      CHF          3750  "
      ]
     },
     "execution_count": 43,
     "metadata": {},
     "output_type": "execute_result"
    }
   ],
   "source": [
    "df_boat3.head()"
   ]
  },
  {
   "cell_type": "markdown",
   "id": "09bc2ad6",
   "metadata": {},
   "source": [
    "Note: For the 'Location' column, I understand this may be an encoding issue, but for the purpose of this project I only need the country information and will extract it into a new column, then remove the 'Location' column entirely."
   ]
  },
  {
   "cell_type": "code",
   "execution_count": 44,
   "id": "b4691598",
   "metadata": {},
   "outputs": [],
   "source": [
    "# creating a list of European Countries\n",
    "country_names = ['Venezuela', 'United States', 'United Arab Emirates', 'Taiwan', 'Turkey', 'Thailand', 'Seychelles', 'Philippines', 'Morocco', 'Lebanon', 'Egypt', 'Cyprus', 'Australia', 'Switzerland', 'France', 'Germany', 'Italy', 'Spain', 'Russia', 'United Kingdom', 'Poland', 'Ukraine', 'Romania', 'Netherlands', 'Belgium', 'Sweden', 'Czechia', 'Greece', 'Portugal', 'Hungary', 'Belarus', 'Austria', 'Switzerland', 'Serbia', 'Bulgaria', 'Denmark', 'Slovakia', 'Finland', 'Norway', 'Ireland', 'Croatia', 'Moldova', 'Bosnia and Herzegovina' 'Albania', 'Lithuania', 'Slovenia', 'North Macedonia', 'Latvia', 'Estonia', 'Luxembourg', 'Montenegro', 'Malta', 'Iceland', 'Andorra', 'Liechtenstein', 'Monaco', 'San Marino', 'Holy See']"
   ]
  },
  {
   "cell_type": "code",
   "execution_count": 45,
   "id": "6dea62c4",
   "metadata": {},
   "outputs": [],
   "source": [
    "# mapping for specific cases, each once was researched using Google Maps. This left just a couple of entries that couldn't be located or understood.\n",
    "country_mapping = {\n",
    "    'Slovak Republic': 'Slovakia',\n",
    "    'B√É¬ºdelsdorf': 'Germany',\n",
    "    'Traunstein': 'Germany',\n",
    "    'Adria': 'Italy',\n",
    "    'Angera': 'Italy',\n",
    "    'annecy': 'France',\n",
    "    'Avenches': 'Switzerland',\n",
    "    'baden baden': 'Germany',\n",
    "    'Zulte': 'Belgium',\n",
    "    'Beilngries': 'Germany',\n",
    "    'Bielefeld': 'Germany',\n",
    "    'Brandenburg': 'Germany',\n",
    "    'Bremen': 'Germany',\n",
    "    'Mallorca': 'Spain',\n",
    "    'Donau': 'Germany',\n",
    "    'Czech Republic': 'Czechia',\n",
    "    'Dalmatien': 'Croatia',\n",
    "    'espa?a': 'Spain',\n",
    "    'Fu√É¬üach': 'Germany',\n",
    "    'Italien': 'Italy',\n",
    "    'Gibraltar': 'United Kingdom',\n",
    "    'Greetsile': 'Germany',\n",
    "    'Izola': 'Slovenia',\n",
    "    'Italie': 'Italy',\n",
    "    'Isle of Man': 'United Kingdom',\n",
    "    'Heilbronn': 'Germany',\n",
    "    'Ibiza': 'Spain',\n",
    "    'Jersey': 'United Kingdom',\n",
    "    'Kroatien': 'Croatia',\n",
    "    'Katwijk': 'Netherlands',\n",
    "    'Juelsminde': 'Denmark',\n",
    "    'Lago di Garda': 'Italy',\n",
    "    'Lago Maggiore': 'Italy',\n",
    "    'Altenrhein': 'Switzerland',\n",
    "    '8253': 'Switzerland',\n",
    "    'Sipplingen': 'Germany',\n",
    "    'Thal': 'Switzerland',\n",
    "    'Steckborn': 'Switzerland',\n",
    "    '78343': 'Germany',\n",
    "    '78337': 'Germany',\n",
    "    'Andelfingen': 'Switzerland',\n",
    "    '8560': 'Switzerland',\n",
    "    'Geneva': 'Switzerland',\n",
    "    'Marina Punat': 'Croatia',\n",
    "    'Martinique': 'France',\n",
    "    'Lommel': 'Belgium',\n",
    "    'Oder': 'Poland',\n",
    "    'Ostsee': 'Germany',\n",
    "    'Vinodolski': 'Croatia',\n",
    "    'Opwijk': 'Belgium',\n",
    "    'Nordseek√É¬ºste': 'Germany',\n",
    "    'Rovinij': 'Croatia',\n",
    "    'Rolle': 'Switzerland',\n",
    "    'R√É¬ºgen ': 'Germany',\n",
    "    'Esbjerg': 'Denmark',\n",
    "    'Porto Rotondo': 'Italy',\n",
    "    'Rheinfelden': 'Germany',\n",
    "    'Steinwiesen': 'Germany',\n",
    "    'Stralsund': 'Germany',\n",
    "    'Split': 'Croatia',\n",
    "    'Travem√É¬ºnde': 'Germany',\n",
    "    'Travem√É¬ºnde ': 'Germany',\n",
    "    'Toscana': 'Italy',\n",
    "    'Tenero': 'Switzerland',\n",
    "    'Thalwil': 'Switzerland',\n",
    "    'Thun': 'Switzerland',\n",
    "    'Zevenbergen': 'Netherlands',\n",
    "    'waren': 'Germany',\n",
    "    'Wangen': 'Switzerland',\n",
    "    'Buochs': 'Switzerland',\n",
    "    'Welschenrohr': 'Switzerland',\n",
    "    'Faoug': 'Switzerland',\n",
    "    'French': 'France',\n",
    "    'Wijdenes': 'Netherlands'\n",
    "    \n",
    "}"
   ]
  },
  {
   "cell_type": "code",
   "execution_count": 46,
   "id": "5265d33f",
   "metadata": {},
   "outputs": [],
   "source": [
    "# function to find the country name in text\n",
    "def find_country(text):\n",
    "    # Check for specific cases first\n",
    "    for special_case, replacement in country_mapping.items():\n",
    "        if special_case.lower() in text.lower():\n",
    "            return replacement\n",
    "\n",
    "    # check for standard country names\n",
    "    for country_name in country_names:\n",
    "        if country_name.lower() in text.lower():\n",
    "            return country_name\n",
    "\n",
    "    return 'No Country'"
   ]
  },
  {
   "cell_type": "code",
   "execution_count": 47,
   "id": "cb20ec90",
   "metadata": {},
   "outputs": [
    {
     "name": "stderr",
     "output_type": "stream",
     "text": [
      "/var/folders/vr/dtw_gx814dz__p2jnh_scllw0000gn/T/ipykernel_46132/2844513187.py:2: SettingWithCopyWarning: \n",
      "A value is trying to be set on a copy of a slice from a DataFrame.\n",
      "Try using .loc[row_indexer,col_indexer] = value instead\n",
      "\n",
      "See the caveats in the documentation: https://pandas.pydata.org/pandas-docs/stable/user_guide/indexing.html#returning-a-view-versus-a-copy\n",
      "  df_boat3['Country'] = df_boat3['Location'].apply(find_country)\n",
      "/var/folders/vr/dtw_gx814dz__p2jnh_scllw0000gn/T/ipykernel_46132/2844513187.py:5: SettingWithCopyWarning: \n",
      "A value is trying to be set on a copy of a slice from a DataFrame\n",
      "\n",
      "See the caveats in the documentation: https://pandas.pydata.org/pandas-docs/stable/user_guide/indexing.html#returning-a-view-versus-a-copy\n",
      "  df_boat3['Country'].fillna('No Country', inplace=True)\n"
     ]
    }
   ],
   "source": [
    "# Apply the find_country function to the 'Location' column\n",
    "df_boat3['Country'] = df_boat3['Location'].apply(find_country)\n",
    "\n",
    "# If no country is found, replace with 'No Country'\n",
    "df_boat3['Country'].fillna('No Country', inplace=True)"
   ]
  },
  {
   "cell_type": "code",
   "execution_count": 48,
   "id": "e375d67b",
   "metadata": {},
   "outputs": [
    {
     "data": {
      "text/html": [
       "<div>\n",
       "<style scoped>\n",
       "    .dataframe tbody tr th:only-of-type {\n",
       "        vertical-align: middle;\n",
       "    }\n",
       "\n",
       "    .dataframe tbody tr th {\n",
       "        vertical-align: top;\n",
       "    }\n",
       "\n",
       "    .dataframe thead th {\n",
       "        text-align: right;\n",
       "    }\n",
       "</style>\n",
       "<table border=\"1\" class=\"dataframe\">\n",
       "  <thead>\n",
       "    <tr style=\"text-align: right;\">\n",
       "      <th></th>\n",
       "      <th>Price</th>\n",
       "      <th>Boat Type</th>\n",
       "      <th>Manufacturer</th>\n",
       "      <th>Type</th>\n",
       "      <th>Year Built</th>\n",
       "      <th>Length</th>\n",
       "      <th>Width</th>\n",
       "      <th>Material</th>\n",
       "      <th>Location</th>\n",
       "      <th>Number of views last 7 days</th>\n",
       "      <th>Currency</th>\n",
       "      <th>Price in EUR</th>\n",
       "      <th>Country</th>\n",
       "    </tr>\n",
       "  </thead>\n",
       "  <tbody>\n",
       "    <tr>\n",
       "      <th>0</th>\n",
       "      <td>3337</td>\n",
       "      <td>Motor Yacht</td>\n",
       "      <td>Rigiflex power boats</td>\n",
       "      <td>new boat from stock</td>\n",
       "      <td>2017</td>\n",
       "      <td>4.00</td>\n",
       "      <td>1.90</td>\n",
       "      <td>NaN</td>\n",
       "      <td>Switzerland Â» Lake Geneva Â» VÃ©senaz</td>\n",
       "      <td>226</td>\n",
       "      <td>CHF</td>\n",
       "      <td>3476</td>\n",
       "      <td>Switzerland</td>\n",
       "    </tr>\n",
       "    <tr>\n",
       "      <th>1</th>\n",
       "      <td>3490</td>\n",
       "      <td>Center console boat</td>\n",
       "      <td>Terhi power boats</td>\n",
       "      <td>new boat from stock</td>\n",
       "      <td>2020</td>\n",
       "      <td>4.00</td>\n",
       "      <td>1.50</td>\n",
       "      <td>Thermoplastic</td>\n",
       "      <td>Germany Â» BÃ¶nningstedt</td>\n",
       "      <td>75</td>\n",
       "      <td>EUR</td>\n",
       "      <td>3490</td>\n",
       "      <td>Germany</td>\n",
       "    </tr>\n",
       "    <tr>\n",
       "      <th>3</th>\n",
       "      <td>25900</td>\n",
       "      <td>Sport Boat</td>\n",
       "      <td>Pioner power boats</td>\n",
       "      <td>new boat from stock</td>\n",
       "      <td>2020</td>\n",
       "      <td>3.00</td>\n",
       "      <td>1.00</td>\n",
       "      <td>NaN</td>\n",
       "      <td>Denmark Â» Svendborg</td>\n",
       "      <td>64</td>\n",
       "      <td>DKK</td>\n",
       "      <td>3472</td>\n",
       "      <td>Denmark</td>\n",
       "    </tr>\n",
       "    <tr>\n",
       "      <th>4</th>\n",
       "      <td>3399</td>\n",
       "      <td>Fishing Boat</td>\n",
       "      <td>Linder power boats</td>\n",
       "      <td>new boat from stock</td>\n",
       "      <td>2019</td>\n",
       "      <td>3.55</td>\n",
       "      <td>1.46</td>\n",
       "      <td>Aluminium</td>\n",
       "      <td>Germany Â» Bayern Â» MÃ¼nchen</td>\n",
       "      <td>58</td>\n",
       "      <td>EUR</td>\n",
       "      <td>3399</td>\n",
       "      <td>Germany</td>\n",
       "    </tr>\n",
       "    <tr>\n",
       "      <th>6</th>\n",
       "      <td>3600</td>\n",
       "      <td>Catamaran</td>\n",
       "      <td>NaN</td>\n",
       "      <td>Used boat,Unleaded</td>\n",
       "      <td>1999</td>\n",
       "      <td>6.20</td>\n",
       "      <td>2.38</td>\n",
       "      <td>Aluminium</td>\n",
       "      <td>Switzerland Â» Neuenburgersee Â» Yvonand</td>\n",
       "      <td>474</td>\n",
       "      <td>CHF</td>\n",
       "      <td>3750</td>\n",
       "      <td>Switzerland</td>\n",
       "    </tr>\n",
       "  </tbody>\n",
       "</table>\n",
       "</div>"
      ],
      "text/plain": [
       "   Price            Boat Type          Manufacturer                 Type  \\\n",
       "0   3337          Motor Yacht  Rigiflex power boats  new boat from stock   \n",
       "1   3490  Center console boat     Terhi power boats  new boat from stock   \n",
       "3  25900           Sport Boat    Pioner power boats  new boat from stock   \n",
       "4   3399         Fishing Boat    Linder power boats  new boat from stock   \n",
       "6   3600            Catamaran                   NaN   Used boat,Unleaded   \n",
       "\n",
       "   Year Built  Length  Width       Material  \\\n",
       "0        2017    4.00   1.90            NaN   \n",
       "1        2020    4.00   1.50  Thermoplastic   \n",
       "3        2020    3.00   1.00            NaN   \n",
       "4        2019    3.55   1.46      Aluminium   \n",
       "6        1999    6.20   2.38      Aluminium   \n",
       "\n",
       "                                    Location  Number of views last 7 days  \\\n",
       "0     Switzerland Â» Lake Geneva Â» VÃ©senaz                          226   \n",
       "1                   Germany Â» BÃ¶nningstedt                           75   \n",
       "3                       Denmark Â» Svendborg                           64   \n",
       "4              Germany Â» Bayern Â» MÃ¼nchen                           58   \n",
       "6  Switzerland Â» Neuenburgersee Â» Yvonand                           474   \n",
       "\n",
       "  Currency  Price in EUR      Country  \n",
       "0      CHF          3476  Switzerland  \n",
       "1      EUR          3490      Germany  \n",
       "3      DKK          3472      Denmark  \n",
       "4      EUR          3399      Germany  \n",
       "6      CHF          3750  Switzerland  "
      ]
     },
     "execution_count": 48,
     "metadata": {},
     "output_type": "execute_result"
    }
   ],
   "source": [
    "# checking work\n",
    "df_boat3.head()"
   ]
  },
  {
   "cell_type": "code",
   "execution_count": 49,
   "id": "e49cc843",
   "metadata": {},
   "outputs": [
    {
     "data": {
      "text/plain": [
       "Country\n",
       "Italy                   1877\n",
       "Germany                 1611\n",
       "France                  1217\n",
       "Netherlands             1020\n",
       "Switzerland              931\n",
       "Croatia                  797\n",
       "Spain                    695\n",
       "United Kingdom           210\n",
       "Denmark                  167\n",
       "Portugal                 132\n",
       "Greece                    86\n",
       "Malta                     70\n",
       "Austria                   67\n",
       "Turkey                    64\n",
       "Belgium                   61\n",
       "Poland                    41\n",
       "Slovenia                  35\n",
       "Finland                   30\n",
       "Montenegro                19\n",
       "United Arab Emirates      16\n",
       "Sweden                    12\n",
       "Monaco                    10\n",
       "Slovakia                   9\n",
       "No Country                 7\n",
       "United States              6\n",
       "Russia                     5\n",
       "Cyprus                     5\n",
       "Lithuania                  5\n",
       "Estonia                    4\n",
       "Hungary                    4\n",
       "Czechia                    4\n",
       "Thailand                   3\n",
       "Bulgaria                   3\n",
       "Norway                     2\n",
       "Latvia                     2\n",
       "Ukraine                    2\n",
       "Australia                  2\n",
       "Taiwan                     1\n",
       "Philippines                1\n",
       "Venezuela                  1\n",
       "Ireland                    1\n",
       "Serbia                     1\n",
       "Seychelles                 1\n",
       "Morocco                    1\n",
       "Lebanon                    1\n",
       "Egypt                      1\n",
       "Romania                    1\n",
       "Name: count, dtype: int64"
      ]
     },
     "execution_count": 49,
     "metadata": {},
     "output_type": "execute_result"
    }
   ],
   "source": [
    "df_boat3['Country'].value_counts(dropna = False)"
   ]
  },
  {
   "cell_type": "code",
   "execution_count": 50,
   "id": "4f7858d0",
   "metadata": {},
   "outputs": [],
   "source": [
    "# removing all entries with 'No Country', total of 7\n",
    "df_boat3 = df_boat3.loc[df_boat3['Country'] != 'No Country']"
   ]
  },
  {
   "cell_type": "code",
   "execution_count": 51,
   "id": "70c33d18",
   "metadata": {},
   "outputs": [
    {
     "data": {
      "text/plain": [
       "Country\n",
       "Italy                   1877\n",
       "Germany                 1611\n",
       "France                  1217\n",
       "Netherlands             1020\n",
       "Switzerland              931\n",
       "Croatia                  797\n",
       "Spain                    695\n",
       "United Kingdom           210\n",
       "Denmark                  167\n",
       "Portugal                 132\n",
       "Greece                    86\n",
       "Malta                     70\n",
       "Austria                   67\n",
       "Turkey                    64\n",
       "Belgium                   61\n",
       "Poland                    41\n",
       "Slovenia                  35\n",
       "Finland                   30\n",
       "Montenegro                19\n",
       "United Arab Emirates      16\n",
       "Sweden                    12\n",
       "Monaco                    10\n",
       "Slovakia                   9\n",
       "United States              6\n",
       "Cyprus                     5\n",
       "Lithuania                  5\n",
       "Russia                     5\n",
       "Hungary                    4\n",
       "Czechia                    4\n",
       "Estonia                    4\n",
       "Thailand                   3\n",
       "Bulgaria                   3\n",
       "Australia                  2\n",
       "Latvia                     2\n",
       "Norway                     2\n",
       "Ukraine                    2\n",
       "Serbia                     1\n",
       "Philippines                1\n",
       "Taiwan                     1\n",
       "Egypt                      1\n",
       "Venezuela                  1\n",
       "Ireland                    1\n",
       "Seychelles                 1\n",
       "Morocco                    1\n",
       "Lebanon                    1\n",
       "Romania                    1\n",
       "Name: count, dtype: int64"
      ]
     },
     "execution_count": 51,
     "metadata": {},
     "output_type": "execute_result"
    }
   ],
   "source": [
    "# checking work\n",
    "df_boat3['Country'].value_counts(dropna = False)"
   ]
  },
  {
   "cell_type": "code",
   "execution_count": 52,
   "id": "d87551bf",
   "metadata": {},
   "outputs": [
    {
     "data": {
      "text/html": [
       "<div>\n",
       "<style scoped>\n",
       "    .dataframe tbody tr th:only-of-type {\n",
       "        vertical-align: middle;\n",
       "    }\n",
       "\n",
       "    .dataframe tbody tr th {\n",
       "        vertical-align: top;\n",
       "    }\n",
       "\n",
       "    .dataframe thead th {\n",
       "        text-align: right;\n",
       "    }\n",
       "</style>\n",
       "<table border=\"1\" class=\"dataframe\">\n",
       "  <thead>\n",
       "    <tr style=\"text-align: right;\">\n",
       "      <th></th>\n",
       "      <th>Price</th>\n",
       "      <th>Boat Type</th>\n",
       "      <th>Manufacturer</th>\n",
       "      <th>Type</th>\n",
       "      <th>Year Built</th>\n",
       "      <th>Length</th>\n",
       "      <th>Width</th>\n",
       "      <th>Material</th>\n",
       "      <th>Location</th>\n",
       "      <th>Number of views last 7 days</th>\n",
       "      <th>Currency</th>\n",
       "      <th>Price in EUR</th>\n",
       "      <th>Country</th>\n",
       "    </tr>\n",
       "  </thead>\n",
       "  <tbody>\n",
       "    <tr>\n",
       "      <th>0</th>\n",
       "      <td>3337</td>\n",
       "      <td>Motor Yacht</td>\n",
       "      <td>Rigiflex power boats</td>\n",
       "      <td>new boat from stock</td>\n",
       "      <td>2017</td>\n",
       "      <td>4.00</td>\n",
       "      <td>1.90</td>\n",
       "      <td>NaN</td>\n",
       "      <td>Switzerland Â» Lake Geneva Â» VÃ©senaz</td>\n",
       "      <td>226</td>\n",
       "      <td>CHF</td>\n",
       "      <td>3476</td>\n",
       "      <td>Switzerland</td>\n",
       "    </tr>\n",
       "    <tr>\n",
       "      <th>1</th>\n",
       "      <td>3490</td>\n",
       "      <td>Center console boat</td>\n",
       "      <td>Terhi power boats</td>\n",
       "      <td>new boat from stock</td>\n",
       "      <td>2020</td>\n",
       "      <td>4.00</td>\n",
       "      <td>1.50</td>\n",
       "      <td>Thermoplastic</td>\n",
       "      <td>Germany Â» BÃ¶nningstedt</td>\n",
       "      <td>75</td>\n",
       "      <td>EUR</td>\n",
       "      <td>3490</td>\n",
       "      <td>Germany</td>\n",
       "    </tr>\n",
       "    <tr>\n",
       "      <th>3</th>\n",
       "      <td>25900</td>\n",
       "      <td>Sport Boat</td>\n",
       "      <td>Pioner power boats</td>\n",
       "      <td>new boat from stock</td>\n",
       "      <td>2020</td>\n",
       "      <td>3.00</td>\n",
       "      <td>1.00</td>\n",
       "      <td>NaN</td>\n",
       "      <td>Denmark Â» Svendborg</td>\n",
       "      <td>64</td>\n",
       "      <td>DKK</td>\n",
       "      <td>3472</td>\n",
       "      <td>Denmark</td>\n",
       "    </tr>\n",
       "    <tr>\n",
       "      <th>4</th>\n",
       "      <td>3399</td>\n",
       "      <td>Fishing Boat</td>\n",
       "      <td>Linder power boats</td>\n",
       "      <td>new boat from stock</td>\n",
       "      <td>2019</td>\n",
       "      <td>3.55</td>\n",
       "      <td>1.46</td>\n",
       "      <td>Aluminium</td>\n",
       "      <td>Germany Â» Bayern Â» MÃ¼nchen</td>\n",
       "      <td>58</td>\n",
       "      <td>EUR</td>\n",
       "      <td>3399</td>\n",
       "      <td>Germany</td>\n",
       "    </tr>\n",
       "    <tr>\n",
       "      <th>6</th>\n",
       "      <td>3600</td>\n",
       "      <td>Catamaran</td>\n",
       "      <td>NaN</td>\n",
       "      <td>Used boat,Unleaded</td>\n",
       "      <td>1999</td>\n",
       "      <td>6.20</td>\n",
       "      <td>2.38</td>\n",
       "      <td>Aluminium</td>\n",
       "      <td>Switzerland Â» Neuenburgersee Â» Yvonand</td>\n",
       "      <td>474</td>\n",
       "      <td>CHF</td>\n",
       "      <td>3750</td>\n",
       "      <td>Switzerland</td>\n",
       "    </tr>\n",
       "  </tbody>\n",
       "</table>\n",
       "</div>"
      ],
      "text/plain": [
       "   Price            Boat Type          Manufacturer                 Type  \\\n",
       "0   3337          Motor Yacht  Rigiflex power boats  new boat from stock   \n",
       "1   3490  Center console boat     Terhi power boats  new boat from stock   \n",
       "3  25900           Sport Boat    Pioner power boats  new boat from stock   \n",
       "4   3399         Fishing Boat    Linder power boats  new boat from stock   \n",
       "6   3600            Catamaran                   NaN   Used boat,Unleaded   \n",
       "\n",
       "   Year Built  Length  Width       Material  \\\n",
       "0        2017    4.00   1.90            NaN   \n",
       "1        2020    4.00   1.50  Thermoplastic   \n",
       "3        2020    3.00   1.00            NaN   \n",
       "4        2019    3.55   1.46      Aluminium   \n",
       "6        1999    6.20   2.38      Aluminium   \n",
       "\n",
       "                                    Location  Number of views last 7 days  \\\n",
       "0     Switzerland Â» Lake Geneva Â» VÃ©senaz                          226   \n",
       "1                   Germany Â» BÃ¶nningstedt                           75   \n",
       "3                       Denmark Â» Svendborg                           64   \n",
       "4              Germany Â» Bayern Â» MÃ¼nchen                           58   \n",
       "6  Switzerland Â» Neuenburgersee Â» Yvonand                           474   \n",
       "\n",
       "  Currency  Price in EUR      Country  \n",
       "0      CHF          3476  Switzerland  \n",
       "1      EUR          3490      Germany  \n",
       "3      DKK          3472      Denmark  \n",
       "4      EUR          3399      Germany  \n",
       "6      CHF          3750  Switzerland  "
      ]
     },
     "execution_count": 52,
     "metadata": {},
     "output_type": "execute_result"
    }
   ],
   "source": [
    "df_boat3.head()"
   ]
  },
  {
   "cell_type": "code",
   "execution_count": 53,
   "id": "dee0e1ee",
   "metadata": {},
   "outputs": [],
   "source": [
    "# removing the 'Location' column, and rearranging the columns for readability\n",
    "df_boat4 = df_boat3[['Country', 'Currency', 'Price', 'Price in EUR', 'Manufacturer', 'Boat Type', 'Type', 'Year Built', 'Material', 'Length', 'Width', 'Number of views last 7 days']]"
   ]
  },
  {
   "cell_type": "code",
   "execution_count": 54,
   "id": "98626a4b",
   "metadata": {},
   "outputs": [
    {
     "data": {
      "text/html": [
       "<div>\n",
       "<style scoped>\n",
       "    .dataframe tbody tr th:only-of-type {\n",
       "        vertical-align: middle;\n",
       "    }\n",
       "\n",
       "    .dataframe tbody tr th {\n",
       "        vertical-align: top;\n",
       "    }\n",
       "\n",
       "    .dataframe thead th {\n",
       "        text-align: right;\n",
       "    }\n",
       "</style>\n",
       "<table border=\"1\" class=\"dataframe\">\n",
       "  <thead>\n",
       "    <tr style=\"text-align: right;\">\n",
       "      <th></th>\n",
       "      <th>Country</th>\n",
       "      <th>Currency</th>\n",
       "      <th>Price</th>\n",
       "      <th>Price in EUR</th>\n",
       "      <th>Manufacturer</th>\n",
       "      <th>Boat Type</th>\n",
       "      <th>Type</th>\n",
       "      <th>Year Built</th>\n",
       "      <th>Material</th>\n",
       "      <th>Length</th>\n",
       "      <th>Width</th>\n",
       "      <th>Number of views last 7 days</th>\n",
       "    </tr>\n",
       "  </thead>\n",
       "  <tbody>\n",
       "    <tr>\n",
       "      <th>0</th>\n",
       "      <td>Switzerland</td>\n",
       "      <td>CHF</td>\n",
       "      <td>3337</td>\n",
       "      <td>3476</td>\n",
       "      <td>Rigiflex power boats</td>\n",
       "      <td>Motor Yacht</td>\n",
       "      <td>new boat from stock</td>\n",
       "      <td>2017</td>\n",
       "      <td>NaN</td>\n",
       "      <td>4.00</td>\n",
       "      <td>1.90</td>\n",
       "      <td>226</td>\n",
       "    </tr>\n",
       "    <tr>\n",
       "      <th>1</th>\n",
       "      <td>Germany</td>\n",
       "      <td>EUR</td>\n",
       "      <td>3490</td>\n",
       "      <td>3490</td>\n",
       "      <td>Terhi power boats</td>\n",
       "      <td>Center console boat</td>\n",
       "      <td>new boat from stock</td>\n",
       "      <td>2020</td>\n",
       "      <td>Thermoplastic</td>\n",
       "      <td>4.00</td>\n",
       "      <td>1.50</td>\n",
       "      <td>75</td>\n",
       "    </tr>\n",
       "    <tr>\n",
       "      <th>3</th>\n",
       "      <td>Denmark</td>\n",
       "      <td>DKK</td>\n",
       "      <td>25900</td>\n",
       "      <td>3472</td>\n",
       "      <td>Pioner power boats</td>\n",
       "      <td>Sport Boat</td>\n",
       "      <td>new boat from stock</td>\n",
       "      <td>2020</td>\n",
       "      <td>NaN</td>\n",
       "      <td>3.00</td>\n",
       "      <td>1.00</td>\n",
       "      <td>64</td>\n",
       "    </tr>\n",
       "    <tr>\n",
       "      <th>4</th>\n",
       "      <td>Germany</td>\n",
       "      <td>EUR</td>\n",
       "      <td>3399</td>\n",
       "      <td>3399</td>\n",
       "      <td>Linder power boats</td>\n",
       "      <td>Fishing Boat</td>\n",
       "      <td>new boat from stock</td>\n",
       "      <td>2019</td>\n",
       "      <td>Aluminium</td>\n",
       "      <td>3.55</td>\n",
       "      <td>1.46</td>\n",
       "      <td>58</td>\n",
       "    </tr>\n",
       "    <tr>\n",
       "      <th>6</th>\n",
       "      <td>Switzerland</td>\n",
       "      <td>CHF</td>\n",
       "      <td>3600</td>\n",
       "      <td>3750</td>\n",
       "      <td>NaN</td>\n",
       "      <td>Catamaran</td>\n",
       "      <td>Used boat,Unleaded</td>\n",
       "      <td>1999</td>\n",
       "      <td>Aluminium</td>\n",
       "      <td>6.20</td>\n",
       "      <td>2.38</td>\n",
       "      <td>474</td>\n",
       "    </tr>\n",
       "  </tbody>\n",
       "</table>\n",
       "</div>"
      ],
      "text/plain": [
       "       Country Currency  Price  Price in EUR          Manufacturer  \\\n",
       "0  Switzerland      CHF   3337          3476  Rigiflex power boats   \n",
       "1      Germany      EUR   3490          3490     Terhi power boats   \n",
       "3      Denmark      DKK  25900          3472    Pioner power boats   \n",
       "4      Germany      EUR   3399          3399    Linder power boats   \n",
       "6  Switzerland      CHF   3600          3750                   NaN   \n",
       "\n",
       "             Boat Type                 Type  Year Built       Material  \\\n",
       "0          Motor Yacht  new boat from stock        2017            NaN   \n",
       "1  Center console boat  new boat from stock        2020  Thermoplastic   \n",
       "3           Sport Boat  new boat from stock        2020            NaN   \n",
       "4         Fishing Boat  new boat from stock        2019      Aluminium   \n",
       "6            Catamaran   Used boat,Unleaded        1999      Aluminium   \n",
       "\n",
       "   Length  Width  Number of views last 7 days  \n",
       "0    4.00   1.90                          226  \n",
       "1    4.00   1.50                           75  \n",
       "3    3.00   1.00                           64  \n",
       "4    3.55   1.46                           58  \n",
       "6    6.20   2.38                          474  "
      ]
     },
     "execution_count": 54,
     "metadata": {},
     "output_type": "execute_result"
    }
   ],
   "source": [
    "# checking work\n",
    "df_boat4.head()"
   ]
  },
  {
   "cell_type": "code",
   "execution_count": 55,
   "id": "4fc89c2d",
   "metadata": {},
   "outputs": [
    {
     "name": "stderr",
     "output_type": "stream",
     "text": [
      "/var/folders/vr/dtw_gx814dz__p2jnh_scllw0000gn/T/ipykernel_46132/2008157059.py:2: SettingWithCopyWarning: \n",
      "A value is trying to be set on a copy of a slice from a DataFrame\n",
      "\n",
      "See the caveats in the documentation: https://pandas.pydata.org/pandas-docs/stable/user_guide/indexing.html#returning-a-view-versus-a-copy\n",
      "  df_boat4.rename(columns={'Number of views last 7 days': 'Number of Views Last 7 Days'}, inplace=True)\n"
     ]
    }
   ],
   "source": [
    "# changing 'Number of views last 7 days' to 'Number of Views Last 7 Days'\n",
    "df_boat4.rename(columns={'Number of views last 7 days': 'Number of Views Last 7 Days'}, inplace=True)"
   ]
  },
  {
   "cell_type": "code",
   "execution_count": 56,
   "id": "e5b5eab7",
   "metadata": {},
   "outputs": [
    {
     "data": {
      "text/html": [
       "<div>\n",
       "<style scoped>\n",
       "    .dataframe tbody tr th:only-of-type {\n",
       "        vertical-align: middle;\n",
       "    }\n",
       "\n",
       "    .dataframe tbody tr th {\n",
       "        vertical-align: top;\n",
       "    }\n",
       "\n",
       "    .dataframe thead th {\n",
       "        text-align: right;\n",
       "    }\n",
       "</style>\n",
       "<table border=\"1\" class=\"dataframe\">\n",
       "  <thead>\n",
       "    <tr style=\"text-align: right;\">\n",
       "      <th></th>\n",
       "      <th>Country</th>\n",
       "      <th>Currency</th>\n",
       "      <th>Price</th>\n",
       "      <th>Price in EUR</th>\n",
       "      <th>Manufacturer</th>\n",
       "      <th>Boat Type</th>\n",
       "      <th>Type</th>\n",
       "      <th>Year Built</th>\n",
       "      <th>Material</th>\n",
       "      <th>Length</th>\n",
       "      <th>Width</th>\n",
       "      <th>Number of Views Last 7 Days</th>\n",
       "    </tr>\n",
       "  </thead>\n",
       "  <tbody>\n",
       "    <tr>\n",
       "      <th>0</th>\n",
       "      <td>Switzerland</td>\n",
       "      <td>CHF</td>\n",
       "      <td>3337</td>\n",
       "      <td>3476</td>\n",
       "      <td>Rigiflex power boats</td>\n",
       "      <td>Motor Yacht</td>\n",
       "      <td>new boat from stock</td>\n",
       "      <td>2017</td>\n",
       "      <td>NaN</td>\n",
       "      <td>4.00</td>\n",
       "      <td>1.90</td>\n",
       "      <td>226</td>\n",
       "    </tr>\n",
       "    <tr>\n",
       "      <th>1</th>\n",
       "      <td>Germany</td>\n",
       "      <td>EUR</td>\n",
       "      <td>3490</td>\n",
       "      <td>3490</td>\n",
       "      <td>Terhi power boats</td>\n",
       "      <td>Center console boat</td>\n",
       "      <td>new boat from stock</td>\n",
       "      <td>2020</td>\n",
       "      <td>Thermoplastic</td>\n",
       "      <td>4.00</td>\n",
       "      <td>1.50</td>\n",
       "      <td>75</td>\n",
       "    </tr>\n",
       "    <tr>\n",
       "      <th>3</th>\n",
       "      <td>Denmark</td>\n",
       "      <td>DKK</td>\n",
       "      <td>25900</td>\n",
       "      <td>3472</td>\n",
       "      <td>Pioner power boats</td>\n",
       "      <td>Sport Boat</td>\n",
       "      <td>new boat from stock</td>\n",
       "      <td>2020</td>\n",
       "      <td>NaN</td>\n",
       "      <td>3.00</td>\n",
       "      <td>1.00</td>\n",
       "      <td>64</td>\n",
       "    </tr>\n",
       "    <tr>\n",
       "      <th>4</th>\n",
       "      <td>Germany</td>\n",
       "      <td>EUR</td>\n",
       "      <td>3399</td>\n",
       "      <td>3399</td>\n",
       "      <td>Linder power boats</td>\n",
       "      <td>Fishing Boat</td>\n",
       "      <td>new boat from stock</td>\n",
       "      <td>2019</td>\n",
       "      <td>Aluminium</td>\n",
       "      <td>3.55</td>\n",
       "      <td>1.46</td>\n",
       "      <td>58</td>\n",
       "    </tr>\n",
       "    <tr>\n",
       "      <th>6</th>\n",
       "      <td>Switzerland</td>\n",
       "      <td>CHF</td>\n",
       "      <td>3600</td>\n",
       "      <td>3750</td>\n",
       "      <td>NaN</td>\n",
       "      <td>Catamaran</td>\n",
       "      <td>Used boat,Unleaded</td>\n",
       "      <td>1999</td>\n",
       "      <td>Aluminium</td>\n",
       "      <td>6.20</td>\n",
       "      <td>2.38</td>\n",
       "      <td>474</td>\n",
       "    </tr>\n",
       "  </tbody>\n",
       "</table>\n",
       "</div>"
      ],
      "text/plain": [
       "       Country Currency  Price  Price in EUR          Manufacturer  \\\n",
       "0  Switzerland      CHF   3337          3476  Rigiflex power boats   \n",
       "1      Germany      EUR   3490          3490     Terhi power boats   \n",
       "3      Denmark      DKK  25900          3472    Pioner power boats   \n",
       "4      Germany      EUR   3399          3399    Linder power boats   \n",
       "6  Switzerland      CHF   3600          3750                   NaN   \n",
       "\n",
       "             Boat Type                 Type  Year Built       Material  \\\n",
       "0          Motor Yacht  new boat from stock        2017            NaN   \n",
       "1  Center console boat  new boat from stock        2020  Thermoplastic   \n",
       "3           Sport Boat  new boat from stock        2020            NaN   \n",
       "4         Fishing Boat  new boat from stock        2019      Aluminium   \n",
       "6            Catamaran   Used boat,Unleaded        1999      Aluminium   \n",
       "\n",
       "   Length  Width  Number of Views Last 7 Days  \n",
       "0    4.00   1.90                          226  \n",
       "1    4.00   1.50                           75  \n",
       "3    3.00   1.00                           64  \n",
       "4    3.55   1.46                           58  \n",
       "6    6.20   2.38                          474  "
      ]
     },
     "execution_count": 56,
     "metadata": {},
     "output_type": "execute_result"
    }
   ],
   "source": [
    "# checking work\n",
    "df_boat4.head()"
   ]
  },
  {
   "cell_type": "markdown",
   "id": "6db699bb",
   "metadata": {},
   "source": [
    "Note: The 'Manufacturer' column had names that had a UTF-8 encoding issue, and despite my efforts were not being able to change in Python. The dataset file is small enough that it was simpler to change the affected entries in Excel instead. "
   ]
  },
  {
   "cell_type": "code",
   "execution_count": 57,
   "id": "973f8569",
   "metadata": {},
   "outputs": [
    {
     "name": "stderr",
     "output_type": "stream",
     "text": [
      "/var/folders/vr/dtw_gx814dz__p2jnh_scllw0000gn/T/ipykernel_46132/2095889551.py:2: SettingWithCopyWarning: \n",
      "A value is trying to be set on a copy of a slice from a DataFrame\n",
      "\n",
      "See the caveats in the documentation: https://pandas.pydata.org/pandas-docs/stable/user_guide/indexing.html#returning-a-view-versus-a-copy\n",
      "  df_boat4.rename(columns={'Type': 'Old Type'}, inplace=True)\n"
     ]
    }
   ],
   "source": [
    "# renaming 'Type' to 'Old Type' to prep for the new columns 'Condition Type' and 'Propulsion Type', and really just help me not confuse it with the other columns.\n",
    "df_boat4.rename(columns={'Type': 'Old Type'}, inplace=True)"
   ]
  },
  {
   "cell_type": "code",
   "execution_count": 58,
   "id": "3d7c3d73",
   "metadata": {},
   "outputs": [
    {
     "data": {
      "text/plain": [
       "Index(['Country', 'Currency', 'Price', 'Price in EUR', 'Manufacturer',\n",
       "       'Boat Type', 'Old Type', 'Year Built', 'Material', 'Length', 'Width',\n",
       "       'Number of Views Last 7 Days'],\n",
       "      dtype='object')"
      ]
     },
     "execution_count": 58,
     "metadata": {},
     "output_type": "execute_result"
    }
   ],
   "source": [
    "df_boat4.columns"
   ]
  },
  {
   "cell_type": "code",
   "execution_count": 59,
   "id": "d91c92b0",
   "metadata": {},
   "outputs": [],
   "source": [
    "# creating a variable holding all condition types, any case\n",
    "phrases = {\n",
    "    'display model': 'Display Model',\n",
    "    'new boat from stock': 'New Boat From Stock',\n",
    "    'new boat on order': 'New Boat On Order',\n",
    "    'used boat': 'Used Boat'\n",
    "}"
   ]
  },
  {
   "cell_type": "code",
   "execution_count": 60,
   "id": "8ee248d8",
   "metadata": {},
   "outputs": [],
   "source": [
    "# creating a function to match and assign 'Condition Type'\n",
    "def find_condition_type(row):\n",
    "    row = row.lower()  \n",
    "    for phrase, condition_type in phrases.items():\n",
    "        if phrase in row:\n",
    "            return condition_type\n",
    "    return 'NaN'   "
   ]
  },
  {
   "cell_type": "code",
   "execution_count": 61,
   "id": "06e11aca",
   "metadata": {},
   "outputs": [],
   "source": [
    "# Apply the function to create the 'Condition Type' column\n",
    "df_boat4['Condition Type'] = df_boat4['Old Type'].apply(find_condition_type)"
   ]
  },
  {
   "cell_type": "code",
   "execution_count": 62,
   "id": "769c367c",
   "metadata": {},
   "outputs": [
    {
     "data": {
      "text/plain": [
       "Condition Type\n",
       "Used Boat              7151\n",
       "New Boat From Stock    1652\n",
       "New Boat On Order       239\n",
       "Display Model           113\n",
       "NaN                      79\n",
       "Name: count, dtype: int64"
      ]
     },
     "execution_count": 62,
     "metadata": {},
     "output_type": "execute_result"
    }
   ],
   "source": [
    "# checking work\n",
    "df_boat4['Condition Type'].value_counts(dropna=False)"
   ]
  },
  {
   "cell_type": "code",
   "execution_count": 63,
   "id": "8af5c4cd",
   "metadata": {},
   "outputs": [],
   "source": [
    "# creating a variable holding all propulsion types, any case\n",
    "propulsion_phrases = {\n",
    "    'diesel': 'Diesel',\n",
    "    'gas': 'Gas',\n",
    "    'electric': 'Electric',\n",
    "    'unleaded': 'Unleaded',\n",
    "    'hybrid': 'Hybrid',\n",
    "    'propane': 'Propane'\n",
    "}"
   ]
  },
  {
   "cell_type": "code",
   "execution_count": 64,
   "id": "faab7689",
   "metadata": {},
   "outputs": [],
   "source": [
    "# creating a function to match and assign 'Propulsion Type'\n",
    "def find_propulsion_type(row):\n",
    "    row = row.lower()  \n",
    "    for phrase, propulsion_type in propulsion_phrases.items():\n",
    "        if phrase in row:\n",
    "            return propulsion_type\n",
    "    return 'NaN'  "
   ]
  },
  {
   "cell_type": "code",
   "execution_count": 65,
   "id": "0e3a18db",
   "metadata": {},
   "outputs": [],
   "source": [
    "# Apply the function to create the 'Condition Type' column\n",
    "df_boat4['Propulsion Type'] = df_boat4['Old Type'].apply(find_propulsion_type)"
   ]
  },
  {
   "cell_type": "code",
   "execution_count": 66,
   "id": "c1c17034",
   "metadata": {},
   "outputs": [
    {
     "data": {
      "text/plain": [
       "Propulsion Type\n",
       "Diesel      4417\n",
       "Unleaded    2727\n",
       "NaN         2027\n",
       "Electric      47\n",
       "Gas           13\n",
       "Hybrid         2\n",
       "Propane        1\n",
       "Name: count, dtype: int64"
      ]
     },
     "execution_count": 66,
     "metadata": {},
     "output_type": "execute_result"
    }
   ],
   "source": [
    "# checking work\n",
    "df_boat4['Propulsion Type'].value_counts(dropna=False)"
   ]
  },
  {
   "cell_type": "code",
   "execution_count": 67,
   "id": "0d65898c",
   "metadata": {},
   "outputs": [
    {
     "data": {
      "text/html": [
       "<div>\n",
       "<style scoped>\n",
       "    .dataframe tbody tr th:only-of-type {\n",
       "        vertical-align: middle;\n",
       "    }\n",
       "\n",
       "    .dataframe tbody tr th {\n",
       "        vertical-align: top;\n",
       "    }\n",
       "\n",
       "    .dataframe thead th {\n",
       "        text-align: right;\n",
       "    }\n",
       "</style>\n",
       "<table border=\"1\" class=\"dataframe\">\n",
       "  <thead>\n",
       "    <tr style=\"text-align: right;\">\n",
       "      <th></th>\n",
       "      <th>Country</th>\n",
       "      <th>Currency</th>\n",
       "      <th>Price</th>\n",
       "      <th>Price in EUR</th>\n",
       "      <th>Manufacturer</th>\n",
       "      <th>Boat Type</th>\n",
       "      <th>Old Type</th>\n",
       "      <th>Year Built</th>\n",
       "      <th>Material</th>\n",
       "      <th>Length</th>\n",
       "      <th>Width</th>\n",
       "      <th>Number of Views Last 7 Days</th>\n",
       "      <th>Condition Type</th>\n",
       "      <th>Propulsion Type</th>\n",
       "    </tr>\n",
       "  </thead>\n",
       "  <tbody>\n",
       "    <tr>\n",
       "      <th>0</th>\n",
       "      <td>Switzerland</td>\n",
       "      <td>CHF</td>\n",
       "      <td>3337</td>\n",
       "      <td>3476</td>\n",
       "      <td>Rigiflex power boats</td>\n",
       "      <td>Motor Yacht</td>\n",
       "      <td>new boat from stock</td>\n",
       "      <td>2017</td>\n",
       "      <td>NaN</td>\n",
       "      <td>4.00</td>\n",
       "      <td>1.90</td>\n",
       "      <td>226</td>\n",
       "      <td>New Boat From Stock</td>\n",
       "      <td>NaN</td>\n",
       "    </tr>\n",
       "    <tr>\n",
       "      <th>1</th>\n",
       "      <td>Germany</td>\n",
       "      <td>EUR</td>\n",
       "      <td>3490</td>\n",
       "      <td>3490</td>\n",
       "      <td>Terhi power boats</td>\n",
       "      <td>Center console boat</td>\n",
       "      <td>new boat from stock</td>\n",
       "      <td>2020</td>\n",
       "      <td>Thermoplastic</td>\n",
       "      <td>4.00</td>\n",
       "      <td>1.50</td>\n",
       "      <td>75</td>\n",
       "      <td>New Boat From Stock</td>\n",
       "      <td>NaN</td>\n",
       "    </tr>\n",
       "    <tr>\n",
       "      <th>3</th>\n",
       "      <td>Denmark</td>\n",
       "      <td>DKK</td>\n",
       "      <td>25900</td>\n",
       "      <td>3472</td>\n",
       "      <td>Pioner power boats</td>\n",
       "      <td>Sport Boat</td>\n",
       "      <td>new boat from stock</td>\n",
       "      <td>2020</td>\n",
       "      <td>NaN</td>\n",
       "      <td>3.00</td>\n",
       "      <td>1.00</td>\n",
       "      <td>64</td>\n",
       "      <td>New Boat From Stock</td>\n",
       "      <td>NaN</td>\n",
       "    </tr>\n",
       "    <tr>\n",
       "      <th>4</th>\n",
       "      <td>Germany</td>\n",
       "      <td>EUR</td>\n",
       "      <td>3399</td>\n",
       "      <td>3399</td>\n",
       "      <td>Linder power boats</td>\n",
       "      <td>Fishing Boat</td>\n",
       "      <td>new boat from stock</td>\n",
       "      <td>2019</td>\n",
       "      <td>Aluminium</td>\n",
       "      <td>3.55</td>\n",
       "      <td>1.46</td>\n",
       "      <td>58</td>\n",
       "      <td>New Boat From Stock</td>\n",
       "      <td>NaN</td>\n",
       "    </tr>\n",
       "    <tr>\n",
       "      <th>6</th>\n",
       "      <td>Switzerland</td>\n",
       "      <td>CHF</td>\n",
       "      <td>3600</td>\n",
       "      <td>3750</td>\n",
       "      <td>NaN</td>\n",
       "      <td>Catamaran</td>\n",
       "      <td>Used boat,Unleaded</td>\n",
       "      <td>1999</td>\n",
       "      <td>Aluminium</td>\n",
       "      <td>6.20</td>\n",
       "      <td>2.38</td>\n",
       "      <td>474</td>\n",
       "      <td>Used Boat</td>\n",
       "      <td>Unleaded</td>\n",
       "    </tr>\n",
       "  </tbody>\n",
       "</table>\n",
       "</div>"
      ],
      "text/plain": [
       "       Country Currency  Price  Price in EUR          Manufacturer  \\\n",
       "0  Switzerland      CHF   3337          3476  Rigiflex power boats   \n",
       "1      Germany      EUR   3490          3490     Terhi power boats   \n",
       "3      Denmark      DKK  25900          3472    Pioner power boats   \n",
       "4      Germany      EUR   3399          3399    Linder power boats   \n",
       "6  Switzerland      CHF   3600          3750                   NaN   \n",
       "\n",
       "             Boat Type             Old Type  Year Built       Material  \\\n",
       "0          Motor Yacht  new boat from stock        2017            NaN   \n",
       "1  Center console boat  new boat from stock        2020  Thermoplastic   \n",
       "3           Sport Boat  new boat from stock        2020            NaN   \n",
       "4         Fishing Boat  new boat from stock        2019      Aluminium   \n",
       "6            Catamaran   Used boat,Unleaded        1999      Aluminium   \n",
       "\n",
       "   Length  Width  Number of Views Last 7 Days       Condition Type  \\\n",
       "0    4.00   1.90                          226  New Boat From Stock   \n",
       "1    4.00   1.50                           75  New Boat From Stock   \n",
       "3    3.00   1.00                           64  New Boat From Stock   \n",
       "4    3.55   1.46                           58  New Boat From Stock   \n",
       "6    6.20   2.38                          474            Used Boat   \n",
       "\n",
       "  Propulsion Type  \n",
       "0             NaN  \n",
       "1             NaN  \n",
       "3             NaN  \n",
       "4             NaN  \n",
       "6        Unleaded  "
      ]
     },
     "execution_count": 67,
     "metadata": {},
     "output_type": "execute_result"
    }
   ],
   "source": [
    "df_boat4.head()"
   ]
  },
  {
   "cell_type": "code",
   "execution_count": 68,
   "id": "3902a790",
   "metadata": {},
   "outputs": [],
   "source": [
    "# rearranging columns and removing the 'Old Type' column\n",
    "df_boat5 = df_boat4[['Country', 'Currency', 'Price in EUR', 'Manufacturer', 'Boat Type', 'Condition Type', 'Propulsion Type', 'Year Built', 'Material', 'Length', 'Width', 'Number of Views Last 7 Days']]"
   ]
  },
  {
   "cell_type": "code",
   "execution_count": 69,
   "id": "8f302cf8",
   "metadata": {},
   "outputs": [
    {
     "data": {
      "text/html": [
       "<div>\n",
       "<style scoped>\n",
       "    .dataframe tbody tr th:only-of-type {\n",
       "        vertical-align: middle;\n",
       "    }\n",
       "\n",
       "    .dataframe tbody tr th {\n",
       "        vertical-align: top;\n",
       "    }\n",
       "\n",
       "    .dataframe thead th {\n",
       "        text-align: right;\n",
       "    }\n",
       "</style>\n",
       "<table border=\"1\" class=\"dataframe\">\n",
       "  <thead>\n",
       "    <tr style=\"text-align: right;\">\n",
       "      <th></th>\n",
       "      <th>Country</th>\n",
       "      <th>Currency</th>\n",
       "      <th>Price in EUR</th>\n",
       "      <th>Manufacturer</th>\n",
       "      <th>Boat Type</th>\n",
       "      <th>Condition Type</th>\n",
       "      <th>Propulsion Type</th>\n",
       "      <th>Year Built</th>\n",
       "      <th>Material</th>\n",
       "      <th>Length</th>\n",
       "      <th>Width</th>\n",
       "      <th>Number of Views Last 7 Days</th>\n",
       "    </tr>\n",
       "  </thead>\n",
       "  <tbody>\n",
       "    <tr>\n",
       "      <th>0</th>\n",
       "      <td>Switzerland</td>\n",
       "      <td>CHF</td>\n",
       "      <td>3476</td>\n",
       "      <td>Rigiflex power boats</td>\n",
       "      <td>Motor Yacht</td>\n",
       "      <td>New Boat From Stock</td>\n",
       "      <td>NaN</td>\n",
       "      <td>2017</td>\n",
       "      <td>NaN</td>\n",
       "      <td>4.00</td>\n",
       "      <td>1.90</td>\n",
       "      <td>226</td>\n",
       "    </tr>\n",
       "    <tr>\n",
       "      <th>1</th>\n",
       "      <td>Germany</td>\n",
       "      <td>EUR</td>\n",
       "      <td>3490</td>\n",
       "      <td>Terhi power boats</td>\n",
       "      <td>Center console boat</td>\n",
       "      <td>New Boat From Stock</td>\n",
       "      <td>NaN</td>\n",
       "      <td>2020</td>\n",
       "      <td>Thermoplastic</td>\n",
       "      <td>4.00</td>\n",
       "      <td>1.50</td>\n",
       "      <td>75</td>\n",
       "    </tr>\n",
       "    <tr>\n",
       "      <th>3</th>\n",
       "      <td>Denmark</td>\n",
       "      <td>DKK</td>\n",
       "      <td>3472</td>\n",
       "      <td>Pioner power boats</td>\n",
       "      <td>Sport Boat</td>\n",
       "      <td>New Boat From Stock</td>\n",
       "      <td>NaN</td>\n",
       "      <td>2020</td>\n",
       "      <td>NaN</td>\n",
       "      <td>3.00</td>\n",
       "      <td>1.00</td>\n",
       "      <td>64</td>\n",
       "    </tr>\n",
       "    <tr>\n",
       "      <th>4</th>\n",
       "      <td>Germany</td>\n",
       "      <td>EUR</td>\n",
       "      <td>3399</td>\n",
       "      <td>Linder power boats</td>\n",
       "      <td>Fishing Boat</td>\n",
       "      <td>New Boat From Stock</td>\n",
       "      <td>NaN</td>\n",
       "      <td>2019</td>\n",
       "      <td>Aluminium</td>\n",
       "      <td>3.55</td>\n",
       "      <td>1.46</td>\n",
       "      <td>58</td>\n",
       "    </tr>\n",
       "    <tr>\n",
       "      <th>6</th>\n",
       "      <td>Switzerland</td>\n",
       "      <td>CHF</td>\n",
       "      <td>3750</td>\n",
       "      <td>NaN</td>\n",
       "      <td>Catamaran</td>\n",
       "      <td>Used Boat</td>\n",
       "      <td>Unleaded</td>\n",
       "      <td>1999</td>\n",
       "      <td>Aluminium</td>\n",
       "      <td>6.20</td>\n",
       "      <td>2.38</td>\n",
       "      <td>474</td>\n",
       "    </tr>\n",
       "  </tbody>\n",
       "</table>\n",
       "</div>"
      ],
      "text/plain": [
       "       Country Currency  Price in EUR          Manufacturer  \\\n",
       "0  Switzerland      CHF          3476  Rigiflex power boats   \n",
       "1      Germany      EUR          3490     Terhi power boats   \n",
       "3      Denmark      DKK          3472    Pioner power boats   \n",
       "4      Germany      EUR          3399    Linder power boats   \n",
       "6  Switzerland      CHF          3750                   NaN   \n",
       "\n",
       "             Boat Type       Condition Type Propulsion Type  Year Built  \\\n",
       "0          Motor Yacht  New Boat From Stock             NaN        2017   \n",
       "1  Center console boat  New Boat From Stock             NaN        2020   \n",
       "3           Sport Boat  New Boat From Stock             NaN        2020   \n",
       "4         Fishing Boat  New Boat From Stock             NaN        2019   \n",
       "6            Catamaran            Used Boat        Unleaded        1999   \n",
       "\n",
       "        Material  Length  Width  Number of Views Last 7 Days  \n",
       "0            NaN    4.00   1.90                          226  \n",
       "1  Thermoplastic    4.00   1.50                           75  \n",
       "3            NaN    3.00   1.00                           64  \n",
       "4      Aluminium    3.55   1.46                           58  \n",
       "6      Aluminium    6.20   2.38                          474  "
      ]
     },
     "execution_count": 69,
     "metadata": {},
     "output_type": "execute_result"
    }
   ],
   "source": [
    "# checking work\n",
    "df_boat5.head()"
   ]
  },
  {
   "cell_type": "code",
   "execution_count": 70,
   "id": "8df8831a",
   "metadata": {},
   "outputs": [],
   "source": [
    "# exporting cleaned data\n",
    "df_boat5.to_csv(os.path.join(path, 'Data', 'Prepared Data', 'boat_cleaned.csv'))"
   ]
  },
  {
   "cell_type": "code",
   "execution_count": null,
   "id": "96cb292f",
   "metadata": {},
   "outputs": [],
   "source": []
  }
 ],
 "metadata": {
  "kernelspec": {
   "display_name": "Python 3 (ipykernel)",
   "language": "python",
   "name": "python3"
  },
  "language_info": {
   "codemirror_mode": {
    "name": "ipython",
    "version": 3
   },
   "file_extension": ".py",
   "mimetype": "text/x-python",
   "name": "python",
   "nbconvert_exporter": "python",
   "pygments_lexer": "ipython3",
   "version": "3.11.5"
  }
 },
 "nbformat": 4,
 "nbformat_minor": 5
}
